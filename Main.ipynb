{
 "cells": [
  {
   "cell_type": "markdown",
   "metadata": {},
   "source": [
    "## Cosine Similarity to do movie recommendation"
   ]
  },
  {
   "cell_type": "code",
   "execution_count": 60,
   "metadata": {
    "ExecuteTime": {
     "end_time": "2021-05-15T16:27:47.900054Z",
     "start_time": "2021-05-15T16:27:47.890054Z"
    }
   },
   "outputs": [],
   "source": [
    "import pandas as pd\n",
    "import numpy as np\n",
    "\n",
    "from sklearn.feature_extraction.text import CountVectorizer\n",
    "from sklearn.metrics.pairwise import cosine_similarity\n",
    "\n",
    "import joblib\n",
    "\n",
    "from flask import Flask, request, render_template\n",
    "\n",
    "import json\n",
    "import bs4\n",
    "import urllib.request\n",
    "import requests\n"
   ]
  },
  {
   "cell_type": "code",
   "execution_count": 72,
   "metadata": {
    "ExecuteTime": {
     "end_time": "2021-05-15T16:32:19.707560Z",
     "start_time": "2021-05-15T16:32:19.687615Z"
    }
   },
   "outputs": [],
   "source": [
    "# Loading the model and tfidf vectorizer ffrom the disk\n",
    "\n",
    "vector= joblib.load('NLP_vector.pkl')\n",
    "model=joblib.load('NLP_model.pkl')\n",
    "\n",
    "def create_similarity():\n",
    "    data=pd.read_csv('main_data.csv')\n",
    "    \n",
    "    #creating a count matrix\n",
    "    cv=CountVectorizer()\n",
    "    count_matrix=cv.fit_transform(data['comb'])\n",
    "    \n",
    "    # creating similarity score matrix\n",
    "    similarity=cosine_similarity(count_matrix)\n",
    "    return data,similarity\n"
   ]
  },
  {
   "cell_type": "code",
   "execution_count": null,
   "metadata": {},
   "outputs": [],
   "source": []
  },
  {
   "cell_type": "code",
   "execution_count": 74,
   "metadata": {
    "ExecuteTime": {
     "end_time": "2021-05-15T16:34:55.109384Z",
     "start_time": "2021-05-15T16:34:55.103400Z"
    }
   },
   "outputs": [],
   "source": [
    "# a=input('write a review: ')\n",
    "\n",
    "# vector=vector.transform([a]).toarray()  #[a] is converting to list\n",
    "# my_pred=model.predict(vector)\n",
    "# # print(my_pred)\n",
    "\n",
    "# if my_pred==1:\n",
    "#     print('Review is positive')\n",
    "# else:\n",
    "#     print('Review is negative')"
   ]
  },
  {
   "cell_type": "code",
   "execution_count": null,
   "metadata": {},
   "outputs": [],
   "source": []
  },
  {
   "cell_type": "code",
   "execution_count": null,
   "metadata": {},
   "outputs": [],
   "source": []
  },
  {
   "cell_type": "code",
   "execution_count": 44,
   "metadata": {
    "ExecuteTime": {
     "end_time": "2021-05-15T16:20:25.572672Z",
     "start_time": "2021-05-15T16:20:24.849692Z"
    }
   },
   "outputs": [],
   "source": [
    "data,similarity=create_similarity()"
   ]
  },
  {
   "cell_type": "code",
   "execution_count": 45,
   "metadata": {
    "ExecuteTime": {
     "end_time": "2021-05-15T16:20:26.085859Z",
     "start_time": "2021-05-15T16:20:26.019047Z"
    }
   },
   "outputs": [
    {
     "data": {
      "text/html": [
       "<div>\n",
       "<style scoped>\n",
       "    .dataframe tbody tr th:only-of-type {\n",
       "        vertical-align: middle;\n",
       "    }\n",
       "\n",
       "    .dataframe tbody tr th {\n",
       "        vertical-align: top;\n",
       "    }\n",
       "\n",
       "    .dataframe thead th {\n",
       "        text-align: right;\n",
       "    }\n",
       "</style>\n",
       "<table border=\"1\" class=\"dataframe\">\n",
       "  <thead>\n",
       "    <tr style=\"text-align: right;\">\n",
       "      <th></th>\n",
       "      <th>director_name</th>\n",
       "      <th>actor_1_name</th>\n",
       "      <th>actor_2_name</th>\n",
       "      <th>actor_3_name</th>\n",
       "      <th>genres</th>\n",
       "      <th>movie_title</th>\n",
       "      <th>comb</th>\n",
       "    </tr>\n",
       "  </thead>\n",
       "  <tbody>\n",
       "    <tr>\n",
       "      <th>0</th>\n",
       "      <td>James Cameron</td>\n",
       "      <td>CCH Pounder</td>\n",
       "      <td>Joel David Moore</td>\n",
       "      <td>Wes Studi</td>\n",
       "      <td>Action Adventure Fantasy Sci-Fi</td>\n",
       "      <td>avatar</td>\n",
       "      <td>CCH Pounder Joel David Moore Wes Studi James C...</td>\n",
       "    </tr>\n",
       "    <tr>\n",
       "      <th>1</th>\n",
       "      <td>Gore Verbinski</td>\n",
       "      <td>Johnny Depp</td>\n",
       "      <td>Orlando Bloom</td>\n",
       "      <td>Jack Davenport</td>\n",
       "      <td>Action Adventure Fantasy</td>\n",
       "      <td>pirates of the caribbean: at world's end</td>\n",
       "      <td>Johnny Depp Orlando Bloom Jack Davenport Gore ...</td>\n",
       "    </tr>\n",
       "    <tr>\n",
       "      <th>2</th>\n",
       "      <td>Sam Mendes</td>\n",
       "      <td>Christoph Waltz</td>\n",
       "      <td>Rory Kinnear</td>\n",
       "      <td>Stephanie Sigman</td>\n",
       "      <td>Action Adventure Thriller</td>\n",
       "      <td>spectre</td>\n",
       "      <td>Christoph Waltz Rory Kinnear Stephanie Sigman ...</td>\n",
       "    </tr>\n",
       "    <tr>\n",
       "      <th>3</th>\n",
       "      <td>Christopher Nolan</td>\n",
       "      <td>Tom Hardy</td>\n",
       "      <td>Christian Bale</td>\n",
       "      <td>Joseph Gordon-Levitt</td>\n",
       "      <td>Action Thriller</td>\n",
       "      <td>the dark knight rises</td>\n",
       "      <td>Tom Hardy Christian Bale Joseph Gordon-Levitt ...</td>\n",
       "    </tr>\n",
       "    <tr>\n",
       "      <th>4</th>\n",
       "      <td>Doug Walker</td>\n",
       "      <td>Doug Walker</td>\n",
       "      <td>Rob Walker</td>\n",
       "      <td>UNKNOWN</td>\n",
       "      <td>Documentary</td>\n",
       "      <td>star wars: episode vii - the force awakens    ...</td>\n",
       "      <td>Doug Walker Rob Walker UNKNOWN Doug Walker Doc...</td>\n",
       "    </tr>\n",
       "    <tr>\n",
       "      <th>...</th>\n",
       "      <td>...</td>\n",
       "      <td>...</td>\n",
       "      <td>...</td>\n",
       "      <td>...</td>\n",
       "      <td>...</td>\n",
       "      <td>...</td>\n",
       "      <td>...</td>\n",
       "    </tr>\n",
       "    <tr>\n",
       "      <th>6137</th>\n",
       "      <td>Robert Rodriguez</td>\n",
       "      <td>Priyanka Chopra Jonas</td>\n",
       "      <td>Pedro Pascal</td>\n",
       "      <td>YaYa Gosselin</td>\n",
       "      <td>Action Fantasy Family Comedy</td>\n",
       "      <td>we can be heroes</td>\n",
       "      <td>Priyanka Chopra Jonas Pedro Pascal YaYa Gossel...</td>\n",
       "    </tr>\n",
       "    <tr>\n",
       "      <th>6138</th>\n",
       "      <td>Paul Greengrass</td>\n",
       "      <td>Tom Hanks</td>\n",
       "      <td>Helena Zengel</td>\n",
       "      <td>UNKNOWN</td>\n",
       "      <td>Action Adventure Drama Western</td>\n",
       "      <td>news of the world</td>\n",
       "      <td>Tom Hanks Helena Zengel UNKNOWN Paul Greengras...</td>\n",
       "    </tr>\n",
       "    <tr>\n",
       "      <th>6139</th>\n",
       "      <td>Regina King</td>\n",
       "      <td>Kingsley Ben-Adir</td>\n",
       "      <td>Eli Goree</td>\n",
       "      <td>Aldis Hodge</td>\n",
       "      <td>Drama</td>\n",
       "      <td>one night in miami...</td>\n",
       "      <td>Kingsley Ben-Adir Eli Goree Aldis Hodge Regina...</td>\n",
       "    </tr>\n",
       "    <tr>\n",
       "      <th>6140</th>\n",
       "      <td>Emerald Fennell</td>\n",
       "      <td>Carey Mulligan</td>\n",
       "      <td>Bo Burnham</td>\n",
       "      <td>Alison Brie</td>\n",
       "      <td>Thriller Crime Drama</td>\n",
       "      <td>promising young woman</td>\n",
       "      <td>Carey Mulligan Bo Burnham Alison Brie Emerald ...</td>\n",
       "    </tr>\n",
       "    <tr>\n",
       "      <th>6141</th>\n",
       "      <td>Kornél Mundruczó</td>\n",
       "      <td>Vanessa Kirby</td>\n",
       "      <td>Shia LaBeouf</td>\n",
       "      <td>Molly Parker</td>\n",
       "      <td>Drama</td>\n",
       "      <td>pieces of a woman</td>\n",
       "      <td>Vanessa Kirby Shia LaBeouf Molly Parker Kornél...</td>\n",
       "    </tr>\n",
       "  </tbody>\n",
       "</table>\n",
       "<p>6142 rows × 7 columns</p>\n",
       "</div>"
      ],
      "text/plain": [
       "          director_name           actor_1_name      actor_2_name  \\\n",
       "0         James Cameron            CCH Pounder  Joel David Moore   \n",
       "1        Gore Verbinski            Johnny Depp     Orlando Bloom   \n",
       "2            Sam Mendes        Christoph Waltz      Rory Kinnear   \n",
       "3     Christopher Nolan              Tom Hardy    Christian Bale   \n",
       "4           Doug Walker            Doug Walker        Rob Walker   \n",
       "...                 ...                    ...               ...   \n",
       "6137   Robert Rodriguez  Priyanka Chopra Jonas      Pedro Pascal   \n",
       "6138    Paul Greengrass              Tom Hanks     Helena Zengel   \n",
       "6139        Regina King      Kingsley Ben-Adir         Eli Goree   \n",
       "6140    Emerald Fennell         Carey Mulligan        Bo Burnham   \n",
       "6141   Kornél Mundruczó          Vanessa Kirby      Shia LaBeouf   \n",
       "\n",
       "              actor_3_name                           genres  \\\n",
       "0                Wes Studi  Action Adventure Fantasy Sci-Fi   \n",
       "1           Jack Davenport         Action Adventure Fantasy   \n",
       "2         Stephanie Sigman        Action Adventure Thriller   \n",
       "3     Joseph Gordon-Levitt                  Action Thriller   \n",
       "4                  UNKNOWN                      Documentary   \n",
       "...                    ...                              ...   \n",
       "6137         YaYa Gosselin     Action Fantasy Family Comedy   \n",
       "6138               UNKNOWN   Action Adventure Drama Western   \n",
       "6139           Aldis Hodge                            Drama   \n",
       "6140           Alison Brie             Thriller Crime Drama   \n",
       "6141          Molly Parker                            Drama   \n",
       "\n",
       "                                            movie_title  \\\n",
       "0                                                avatar   \n",
       "1              pirates of the caribbean: at world's end   \n",
       "2                                               spectre   \n",
       "3                                 the dark knight rises   \n",
       "4     star wars: episode vii - the force awakens    ...   \n",
       "...                                                 ...   \n",
       "6137                                   we can be heroes   \n",
       "6138                                  news of the world   \n",
       "6139                              one night in miami...   \n",
       "6140                              promising young woman   \n",
       "6141                                  pieces of a woman   \n",
       "\n",
       "                                                   comb  \n",
       "0     CCH Pounder Joel David Moore Wes Studi James C...  \n",
       "1     Johnny Depp Orlando Bloom Jack Davenport Gore ...  \n",
       "2     Christoph Waltz Rory Kinnear Stephanie Sigman ...  \n",
       "3     Tom Hardy Christian Bale Joseph Gordon-Levitt ...  \n",
       "4     Doug Walker Rob Walker UNKNOWN Doug Walker Doc...  \n",
       "...                                                 ...  \n",
       "6137  Priyanka Chopra Jonas Pedro Pascal YaYa Gossel...  \n",
       "6138  Tom Hanks Helena Zengel UNKNOWN Paul Greengras...  \n",
       "6139  Kingsley Ben-Adir Eli Goree Aldis Hodge Regina...  \n",
       "6140  Carey Mulligan Bo Burnham Alison Brie Emerald ...  \n",
       "6141  Vanessa Kirby Shia LaBeouf Molly Parker Kornél...  \n",
       "\n",
       "[6142 rows x 7 columns]"
      ]
     },
     "execution_count": 45,
     "metadata": {},
     "output_type": "execute_result"
    }
   ],
   "source": [
    "data"
   ]
  },
  {
   "cell_type": "code",
   "execution_count": 46,
   "metadata": {
    "ExecuteTime": {
     "end_time": "2021-05-15T16:20:26.209527Z",
     "start_time": "2021-05-15T16:20:26.196565Z"
    }
   },
   "outputs": [],
   "source": [
    "#functions to get movie title from movie index and vice versa\n",
    "\n",
    "def get_titlefromindex(movieindex):\n",
    "    return data[data.index==movieindex]['movie_title'].values[0]\n",
    "\n",
    "def get_indexfromtitle(title):\n",
    "    return data[data.movie_title==title].index.values[0]\n"
   ]
  },
  {
   "cell_type": "code",
   "execution_count": 47,
   "metadata": {
    "ExecuteTime": {
     "end_time": "2021-05-15T16:20:26.883681Z",
     "start_time": "2021-05-15T16:20:26.871715Z"
    }
   },
   "outputs": [],
   "source": [
    "# function to take a movie and return the recommendations\n",
    "\n",
    "def recommendation(movie_user_likes):\n",
    "    movie_user_likes=movie_user_likes.lower()\n",
    "\n",
    "    data,similarity=create_similarity()\n",
    "        \n",
    "    if movie_user_likes not in data['movie_title'].unique():\n",
    "        return ('Sorry!, The movie you requested is not in our database. Please check the spelling or try with some other movies' )\n",
    "    else:\n",
    "        movie_index=get_indexfromtitle(movie_user_likes)\n",
    "        similar_movies=list(enumerate(similarity[movie_index]))\n",
    "        sorted_similar_movies=sorted(similar_movies,key=lambda x:x[1],reverse=True)[1:] \n",
    "        # [1:] to remove first movie from the sorted list as it's the searched movie itself\n",
    "        \n",
    "        #list of recommended movies\n",
    "        recommended_movies = []\n",
    "        for mov in (sorted_similar_movies[0:10]):\n",
    "            recommended_movies.append(get_titlefromindex(mov[0]))\n",
    "        return recommended_movies\n",
    "    \n",
    "    "
   ]
  },
  {
   "cell_type": "code",
   "execution_count": 48,
   "metadata": {
    "ExecuteTime": {
     "end_time": "2021-05-15T16:20:27.665923Z",
     "start_time": "2021-05-15T16:20:27.647971Z"
    }
   },
   "outputs": [
    {
     "data": {
      "text/plain": [
       "str"
      ]
     },
     "execution_count": 48,
     "metadata": {},
     "output_type": "execute_result"
    }
   ],
   "source": [
    "movie_user_likes='venom'\n",
    "type(movie_user_likes)"
   ]
  },
  {
   "cell_type": "code",
   "execution_count": 49,
   "metadata": {
    "ExecuteTime": {
     "end_time": "2021-05-15T16:20:29.292716Z",
     "start_time": "2021-05-15T16:20:28.165917Z"
    }
   },
   "outputs": [],
   "source": [
    "recommended_movies=recommendation(movie_user_likes)\n"
   ]
  },
  {
   "cell_type": "code",
   "execution_count": 50,
   "metadata": {
    "ExecuteTime": {
     "end_time": "2021-05-15T16:20:29.323634Z",
     "start_time": "2021-05-15T16:20:29.297703Z"
    }
   },
   "outputs": [
    {
     "name": "stdout",
     "output_type": "stream",
     "text": [
      "Spider-Man: Far From Home\n",
      "Gangster Squad\n",
      "Rocknrolla\n",
      "The New Mutants\n",
      "Jason Bourne\n",
      "This Means War\n",
      "What Happens In Vegas\n",
      "The Dark Knight Rises\n",
      "30 Minutes Or Less\n",
      "Zombieland: Double Tap\n"
     ]
    }
   ],
   "source": [
    "for i in recommended_movies:\n",
    "    print(i.title())"
   ]
  },
  {
   "cell_type": "code",
   "execution_count": null,
   "metadata": {},
   "outputs": [],
   "source": []
  },
  {
   "cell_type": "code",
   "execution_count": null,
   "metadata": {},
   "outputs": [],
   "source": [
    "# web scraping to get user reviews from IMDB site\n",
    "    \n",
    "# source= urllib.request.urlopen('https://www.imdb.com/title/{}/reviews?ref_=tt_ov_rt'.format(imdb_id)).read"
   ]
  },
  {
   "cell_type": "code",
   "execution_count": null,
   "metadata": {},
   "outputs": [],
   "source": []
  },
  {
   "cell_type": "code",
   "execution_count": null,
   "metadata": {},
   "outputs": [],
   "source": [
    "\n",
    "\n",
    "    "
   ]
  },
  {
   "cell_type": "code",
   "execution_count": null,
   "metadata": {},
   "outputs": [],
   "source": []
  },
  {
   "cell_type": "code",
   "execution_count": null,
   "metadata": {},
   "outputs": [],
   "source": []
  },
  {
   "cell_type": "code",
   "execution_count": null,
   "metadata": {},
   "outputs": [],
   "source": []
  },
  {
   "cell_type": "code",
   "execution_count": null,
   "metadata": {},
   "outputs": [],
   "source": []
  },
  {
   "cell_type": "code",
   "execution_count": null,
   "metadata": {},
   "outputs": [],
   "source": []
  },
  {
   "cell_type": "code",
   "execution_count": null,
   "metadata": {},
   "outputs": [],
   "source": []
  },
  {
   "cell_type": "code",
   "execution_count": null,
   "metadata": {},
   "outputs": [],
   "source": []
  },
  {
   "cell_type": "code",
   "execution_count": null,
   "metadata": {},
   "outputs": [],
   "source": []
  }
 ],
 "metadata": {
  "kernelspec": {
   "display_name": "Python 3",
   "language": "python",
   "name": "python3"
  },
  "language_info": {
   "codemirror_mode": {
    "name": "ipython",
    "version": 3
   },
   "file_extension": ".py",
   "mimetype": "text/x-python",
   "name": "python",
   "nbconvert_exporter": "python",
   "pygments_lexer": "ipython3",
   "version": "3.8.3"
  }
 },
 "nbformat": 4,
 "nbformat_minor": 4
}
