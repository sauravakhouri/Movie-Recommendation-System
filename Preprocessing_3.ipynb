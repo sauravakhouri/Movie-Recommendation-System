{
 "cells": [
  {
   "cell_type": "markdown",
   "metadata": {},
   "source": [
    "# Extracting data for 2018 and 2019 movies from Wikipedia "
   ]
  },
  {
   "cell_type": "markdown",
   "metadata": {},
   "source": [
    "### Extracting features of 2018 movies from Wikipedia"
   ]
  },
  {
   "cell_type": "code",
   "execution_count": 1,
   "metadata": {
    "ExecuteTime": {
     "end_time": "2021-05-11T16:28:24.347970Z",
     "start_time": "2021-05-11T16:28:23.173117Z"
    }
   },
   "outputs": [],
   "source": [
    "import pandas as pd\n",
    "import numpy as np"
   ]
  },
  {
   "cell_type": "code",
   "execution_count": 13,
   "metadata": {
    "ExecuteTime": {
     "end_time": "2021-05-11T16:53:31.688869Z",
     "start_time": "2021-05-11T16:53:26.319272Z"
    }
   },
   "outputs": [],
   "source": [
    "wikilink = \"https://en.wikipedia.org/wiki/List_of_American_films_of_2018\"\n",
    "# there are 4 different tables for 4 different quarters, we'll read the tables seperately and join those together\n",
    "# we'll start taking from 2nd index as that's from where the table we need starts on the wiki page\n",
    "\n",
    "df1= pd.read_html(wikilink,header=0)[2]\n",
    "df2= pd.read_html(wikilink,header=0)[3]\n",
    "df3= pd.read_html(wikilink,header=0)[4]\n",
    "df4= pd.read_html(wikilink,header=0)[5]\n"
   ]
  },
  {
   "cell_type": "code",
   "execution_count": 14,
   "metadata": {
    "ExecuteTime": {
     "end_time": "2021-05-11T16:56:24.314959Z",
     "start_time": "2021-05-11T16:56:24.290380Z"
    }
   },
   "outputs": [],
   "source": [
    "df=df1.append(df2.append(df3.append(df4,ignore_index=True),ignore_index=True),ignore_index=True)"
   ]
  },
  {
   "cell_type": "code",
   "execution_count": 16,
   "metadata": {
    "ExecuteTime": {
     "end_time": "2021-05-11T16:56:42.403399Z",
     "start_time": "2021-05-11T16:56:42.379399Z"
    }
   },
   "outputs": [
    {
     "data": {
      "text/html": [
       "<div>\n",
       "<style scoped>\n",
       "    .dataframe tbody tr th:only-of-type {\n",
       "        vertical-align: middle;\n",
       "    }\n",
       "\n",
       "    .dataframe tbody tr th {\n",
       "        vertical-align: top;\n",
       "    }\n",
       "\n",
       "    .dataframe thead th {\n",
       "        text-align: right;\n",
       "    }\n",
       "</style>\n",
       "<table border=\"1\" class=\"dataframe\">\n",
       "  <thead>\n",
       "    <tr style=\"text-align: right;\">\n",
       "      <th></th>\n",
       "      <th>Opening</th>\n",
       "      <th>Opening.1</th>\n",
       "      <th>Title</th>\n",
       "      <th>Production company</th>\n",
       "      <th>Cast and crew</th>\n",
       "      <th>Ref.</th>\n",
       "    </tr>\n",
       "  </thead>\n",
       "  <tbody>\n",
       "    <tr>\n",
       "      <th>0</th>\n",
       "      <td>JANUARY</td>\n",
       "      <td>5</td>\n",
       "      <td>Insidious: The Last Key</td>\n",
       "      <td>Universal Pictures / Blumhouse Productions / S...</td>\n",
       "      <td>Adam Robitel (director); Leigh Whannell (scree...</td>\n",
       "      <td>[2]</td>\n",
       "    </tr>\n",
       "    <tr>\n",
       "      <th>1</th>\n",
       "      <td>JANUARY</td>\n",
       "      <td>5</td>\n",
       "      <td>The Strange Ones</td>\n",
       "      <td>Vertical Entertainment</td>\n",
       "      <td>Lauren Wolkstein (director); Christopher Radcl...</td>\n",
       "      <td>[3]</td>\n",
       "    </tr>\n",
       "    <tr>\n",
       "      <th>2</th>\n",
       "      <td>JANUARY</td>\n",
       "      <td>5</td>\n",
       "      <td>Stratton</td>\n",
       "      <td>Momentum Pictures</td>\n",
       "      <td>Simon West (director); Duncan Falconer, Warren...</td>\n",
       "      <td>[4]</td>\n",
       "    </tr>\n",
       "    <tr>\n",
       "      <th>3</th>\n",
       "      <td>JANUARY</td>\n",
       "      <td>10</td>\n",
       "      <td>Sweet Country</td>\n",
       "      <td>Samuel Goldwyn Films</td>\n",
       "      <td>Warwick Thornton (director); David Tranter, St...</td>\n",
       "      <td>[5]</td>\n",
       "    </tr>\n",
       "    <tr>\n",
       "      <th>4</th>\n",
       "      <td>JANUARY</td>\n",
       "      <td>12</td>\n",
       "      <td>The Commuter</td>\n",
       "      <td>Lionsgate / StudioCanal / The Picture Company</td>\n",
       "      <td>Jaume Collet-Serra (director); Byron Willinger...</td>\n",
       "      <td>[6]</td>\n",
       "    </tr>\n",
       "    <tr>\n",
       "      <th>...</th>\n",
       "      <td>...</td>\n",
       "      <td>...</td>\n",
       "      <td>...</td>\n",
       "      <td>...</td>\n",
       "      <td>...</td>\n",
       "      <td>...</td>\n",
       "    </tr>\n",
       "    <tr>\n",
       "      <th>264</th>\n",
       "      <td>DECEMBER</td>\n",
       "      <td>25</td>\n",
       "      <td>Holmes &amp; Watson</td>\n",
       "      <td>Columbia Pictures / Gary Sanchez Productions</td>\n",
       "      <td>Etan Cohen (director/screenplay); Will Ferrell...</td>\n",
       "      <td>[163]</td>\n",
       "    </tr>\n",
       "    <tr>\n",
       "      <th>265</th>\n",
       "      <td>DECEMBER</td>\n",
       "      <td>25</td>\n",
       "      <td>Vice</td>\n",
       "      <td>Annapurna Pictures / Plan B Entertainment</td>\n",
       "      <td>Adam McKay (director/screenplay); Christian Ba...</td>\n",
       "      <td>[137]</td>\n",
       "    </tr>\n",
       "    <tr>\n",
       "      <th>266</th>\n",
       "      <td>DECEMBER</td>\n",
       "      <td>25</td>\n",
       "      <td>On the Basis of Sex</td>\n",
       "      <td>Focus Features</td>\n",
       "      <td>Mimi Leder (director); Daniel Stiepleman (scre...</td>\n",
       "      <td>[226]</td>\n",
       "    </tr>\n",
       "    <tr>\n",
       "      <th>267</th>\n",
       "      <td>DECEMBER</td>\n",
       "      <td>25</td>\n",
       "      <td>Destroyer</td>\n",
       "      <td>Annapurna Pictures</td>\n",
       "      <td>Karyn Kusama (director); Phil Hay, Matt Manfre...</td>\n",
       "      <td>[258]</td>\n",
       "    </tr>\n",
       "    <tr>\n",
       "      <th>268</th>\n",
       "      <td>DECEMBER</td>\n",
       "      <td>28</td>\n",
       "      <td>Black Mirror: Bandersnatch</td>\n",
       "      <td>Netflix</td>\n",
       "      <td>David Slade (director); Charlie Brooker (scree...</td>\n",
       "      <td>[259]</td>\n",
       "    </tr>\n",
       "  </tbody>\n",
       "</table>\n",
       "<p>269 rows × 6 columns</p>\n",
       "</div>"
      ],
      "text/plain": [
       "      Opening  Opening.1                       Title  \\\n",
       "0     JANUARY          5     Insidious: The Last Key   \n",
       "1     JANUARY          5            The Strange Ones   \n",
       "2     JANUARY          5                    Stratton   \n",
       "3     JANUARY         10               Sweet Country   \n",
       "4     JANUARY         12                The Commuter   \n",
       "..        ...        ...                         ...   \n",
       "264  DECEMBER         25             Holmes & Watson   \n",
       "265  DECEMBER         25                        Vice   \n",
       "266  DECEMBER         25         On the Basis of Sex   \n",
       "267  DECEMBER         25                   Destroyer   \n",
       "268  DECEMBER         28  Black Mirror: Bandersnatch   \n",
       "\n",
       "                                    Production company  \\\n",
       "0    Universal Pictures / Blumhouse Productions / S...   \n",
       "1                               Vertical Entertainment   \n",
       "2                                    Momentum Pictures   \n",
       "3                                 Samuel Goldwyn Films   \n",
       "4        Lionsgate / StudioCanal / The Picture Company   \n",
       "..                                                 ...   \n",
       "264       Columbia Pictures / Gary Sanchez Productions   \n",
       "265          Annapurna Pictures / Plan B Entertainment   \n",
       "266                                     Focus Features   \n",
       "267                                 Annapurna Pictures   \n",
       "268                                            Netflix   \n",
       "\n",
       "                                         Cast and crew   Ref.  \n",
       "0    Adam Robitel (director); Leigh Whannell (scree...    [2]  \n",
       "1    Lauren Wolkstein (director); Christopher Radcl...    [3]  \n",
       "2    Simon West (director); Duncan Falconer, Warren...    [4]  \n",
       "3    Warwick Thornton (director); David Tranter, St...    [5]  \n",
       "4    Jaume Collet-Serra (director); Byron Willinger...    [6]  \n",
       "..                                                 ...    ...  \n",
       "264  Etan Cohen (director/screenplay); Will Ferrell...  [163]  \n",
       "265  Adam McKay (director/screenplay); Christian Ba...  [137]  \n",
       "266  Mimi Leder (director); Daniel Stiepleman (scre...  [226]  \n",
       "267  Karyn Kusama (director); Phil Hay, Matt Manfre...  [258]  \n",
       "268  David Slade (director); Charlie Brooker (scree...  [259]  \n",
       "\n",
       "[269 rows x 6 columns]"
      ]
     },
     "execution_count": 16,
     "metadata": {},
     "output_type": "execute_result"
    }
   ],
   "source": [
    "df"
   ]
  },
  {
   "cell_type": "code",
   "execution_count": 17,
   "metadata": {
    "ExecuteTime": {
     "end_time": "2021-05-11T17:02:41.420627Z",
     "start_time": "2021-05-11T17:02:36.049741Z"
    }
   },
   "outputs": [
    {
     "name": "stdout",
     "output_type": "stream",
     "text": [
      "Collecting tmdbv3api\n",
      "  Downloading tmdbv3api-1.7.5-py2.py3-none-any.whl (17 kB)\n",
      "Requirement already satisfied: requests in c:\\programdata\\anaconda3\\lib\\site-packages (from tmdbv3api) (2.24.0)\n",
      "Requirement already satisfied: certifi>=2017.4.17 in c:\\programdata\\anaconda3\\lib\\site-packages (from requests->tmdbv3api) (2020.6.20)\n",
      "Requirement already satisfied: idna<3,>=2.5 in c:\\programdata\\anaconda3\\lib\\site-packages (from requests->tmdbv3api) (2.10)\n",
      "Requirement already satisfied: urllib3!=1.25.0,!=1.25.1,<1.26,>=1.21.1 in c:\\programdata\\anaconda3\\lib\\site-packages (from requests->tmdbv3api) (1.25.9)\n",
      "Requirement already satisfied: chardet<4,>=3.0.2 in c:\\programdata\\anaconda3\\lib\\site-packages (from requests->tmdbv3api) (3.0.4)\n",
      "Installing collected packages: tmdbv3api\n",
      "Successfully installed tmdbv3api-1.7.5\n"
     ]
    },
    {
     "name": "stderr",
     "output_type": "stream",
     "text": [
      "WARNING: You are using pip version 21.0.1; however, version 21.1.1 is available.\n",
      "You should consider upgrading via the 'C:\\ProgramData\\Anaconda3\\python.exe -m pip install --upgrade pip' command.\n"
     ]
    }
   ],
   "source": [
    "# Note that the data from wikipedia does not have Genres column which we need for our application,\n",
    "# we'll pull it from TMDB database through api by creating installing the TMDBapi library and using TMDB api key which can be \n",
    "# created from TMDB site https://www.themoviedb.org/settings/api after creating an account\n",
    "\n",
    "!pip install tmdbv3api"
   ]
  },
  {
   "cell_type": "code",
   "execution_count": 18,
   "metadata": {
    "ExecuteTime": {
     "end_time": "2021-05-11T17:04:51.100381Z",
     "start_time": "2021-05-11T17:04:50.996132Z"
    }
   },
   "outputs": [],
   "source": [
    "from tmdbv3api import TMDb\n",
    "import json\n",
    "import requests\n",
    "tmdb=TMDb()\n",
    "tmdb.api_key='40b54d7df35213771dbeee679c888397'\n",
    "from tmdbv3api import Movie\n",
    "tmdb_movie= Movie()"
   ]
  },
  {
   "cell_type": "code",
   "execution_count": null,
   "metadata": {},
   "outputs": [],
   "source": [
    "\n",
    "# sample of the details retrived using tmdb_movie.search\n",
    "# mov=tmdb_movie.search('Inception')\n",
    "\n",
    "# If the result matches multiple movies, each movie details will be in a dictionaries within a list\n",
    "# Here you can see that for genres, we have genre_ids as a list which has multiple genres id\n",
    "\n",
    "\n",
    "# {\n",
    "# 'adult': False,\n",
    "#  'backdrop_path': '/s3TBrRGB1iav7gFOCNx3H31MoES.jpg', \n",
    "#  'genre_ids': [28, 878, 12], \n",
    "#  'id': 27205,\n",
    "#  'original_language': 'en', \n",
    "#  'original_title': 'Inception', \n",
    "#  'overview': 'Cobb, a skilled thief who commits corporate espionage by infiltrating the subconscious of his targets is offered a chance to regain his old life as payment for a task considered to be impossible: \"inception\", the implantation of another person\\'s idea into a target\\'s subconscious.',\n",
    "#  'popularity': 60.915, \n",
    "#  'poster_path': '/9gk7adHYeDvHkCSEqAvQNLV5Uge.jpg', \n",
    "#  'release_date': '2010-07-15', \n",
    "#  'title': 'Inception', \n",
    "#  'video': False, \n",
    "#  'vote_average': 8.3, \n",
    "#  'vote_count': 29000\n",
    "#  }\n",
    "\n"
   ]
  },
  {
   "cell_type": "code",
   "execution_count": null,
   "metadata": {},
   "outputs": [],
   "source": [
    "# sample of the api call which gives a detailed data\n",
    "# https://api.themoviedb.org/3/movie/27205?api_key=40b54d7df35213771dbeee679c888397\n",
    "\n",
    "#Here you can see that we actually see the detailed genre names in a list of dictionaries as key values pair name with their id\n",
    "\n",
    "# {\n",
    "# \"adult\":false,\n",
    "# \"backdrop_path\":\"/s3TBrRGB1iav7gFOCNx3H31MoES.jpg\",\n",
    "# \"belongs_to_collection\":null,\"budget\":160000000,\n",
    "# \"genres\":[{\"id\":28,\"name\":\"Action\"},{\"id\":878,\"name\":\"Science Fiction\"},{\"id\":12,\"name\":\"Adventure\"}],\n",
    "# \"homepage\":\"http://inceptionmovie.warnerbros.com/\",\n",
    "# \"id\":27205,\n",
    "# \"imdb_id\":\"tt1375666\",\n",
    "# \"original_language\":\"en\",\n",
    "# \"original_title\":\"Inception\",\n",
    "# \"overview\":\"Cobb, a skilled thief who commits corporate espionage by infiltrating the subconscious of his targets is offered a chance to regain his old life as payment for a task considered to be impossible: \\\"inception\\\", the implantation of another person's idea into a target's subconscious.\",\n",
    "# \"popularity\":60.915,\"poster_path\":\"/9gk7adHYeDvHkCSEqAvQNLV5Uge.jpg\",\n",
    "# \"production_companies\":[{\"id\":923,\"logo_path\":\"/5UQsZrfbfG2dYJbx8DxfoTr2Bvu.png\",\"name\":\"Legendary Pictures\",\"origin_country\":\"US\"},{\"id\":9996,\"logo_path\":\"/3tvBqYsBhxWeHlu62SIJ1el93O7.png\",\"name\":\"Syncopy\",\"origin_country\":\"GB\"},{\"id\":174,\"logo_path\":\"/IuAlhI9eVC9Z8UQWOIDdWRKSEJ.png\",\"name\":\"Warner Bros. Pictures\",\"origin_country\":\"US\"}],\n",
    "# \"production_countries\":[{\"iso_3166_1\":\"GB\",\"name\":\"United Kingdom\"},{\"iso_3166_1\":\"US\",\"name\":\"United States of America\"}],\n",
    "# \"release_date\":\"2010-07-15\",\n",
    "# \"revenue\":825532764,\n",
    "# \"runtime\":148,\n",
    "# \"spoken_languages\":[{\"english_name\":\"English\",\"iso_639_1\":\"en\",\"name\":\"English\"},{\"english_name\":\"Japanese\",\"iso_639_1\":\"ja\",\"name\":\"日本語\"},{\"english_name\":\"French\",\"iso_639_1\":\"fr\",\"name\":\"Français\"}],\n",
    "# \"status\":\"Released\",\n",
    "# \"tagline\":\"Your mind is the scene of the crime.\",\n",
    "# \"title\":\"Inception\",\n",
    "# \"video\":false,\n",
    "# \"vote_average\":8.3,\n",
    "# \"vote_count\":29004\n",
    "# }"
   ]
  },
  {
   "cell_type": "code",
   "execution_count": null,
   "metadata": {},
   "outputs": [],
   "source": []
  },
  {
   "cell_type": "code",
   "execution_count": null,
   "metadata": {},
   "outputs": [],
   "source": []
  },
  {
   "cell_type": "code",
   "execution_count": 44,
   "metadata": {
    "ExecuteTime": {
     "end_time": "2021-05-11T19:16:48.316630Z",
     "start_time": "2021-05-11T19:16:48.304693Z"
    }
   },
   "outputs": [],
   "source": [
    "# we'll write a function to retreive the genres data from TMDB website using the api key by passing the movie title and \n",
    "# retrieving their genres respectively\n",
    "#Example API Request from TMDB website: \n",
    "# https://api.themoviedb.org/3/movie/550?api_key=40b54d7df35213771dbeee679c888397  \n",
    "\n",
    "\n",
    "\n",
    "def get_genre(x):\n",
    "    genres=[]\n",
    "    result=tmdb_movie.search(x)  #gives the results of all the matched movies in a list of dictionaries(one dict for each movie)\n",
    "    movie_id=result[0].id # retrieves the id key, of the first movie in the list of retrieved movies\n",
    "    \n",
    "    response=requests.get('https://api.themoviedb.org/3/movie/{}?api_key={}'.format(movie_id,tmdb.api_key)) \n",
    "    #data is received as response format which would needed to converted to json \n",
    "    \n",
    "    data_json=response.json() # coverting the response data to  json\n",
    "    \n",
    "    if data_json['genres']:\n",
    "        genre_str=\" \"    #adding space between the genre names\n",
    "        for i in range(0,len(data_json['genres'])):\n",
    "            genres.append(data_json['genres'][i]['name'])  \n",
    "            # from data_json, retreiving genres key, and then within the list of dictionries within genres, \n",
    "            # picking the name of all the genre names one by one\n",
    "        return genre_str.join(genres)\n",
    "    else:\n",
    "        np.NaN\n",
    "\n"
   ]
  },
  {
   "cell_type": "code",
   "execution_count": 45,
   "metadata": {
    "ExecuteTime": {
     "end_time": "2021-05-11T19:17:12.879576Z",
     "start_time": "2021-05-11T19:16:55.318998Z"
    }
   },
   "outputs": [],
   "source": [
    "df['genres']=df['Title'].map(lambda x: get_genre(str(x)))"
   ]
  },
  {
   "cell_type": "code",
   "execution_count": 46,
   "metadata": {
    "ExecuteTime": {
     "end_time": "2021-05-11T19:17:12.925799Z",
     "start_time": "2021-05-11T19:17:12.883874Z"
    }
   },
   "outputs": [
    {
     "data": {
      "text/html": [
       "<div>\n",
       "<style scoped>\n",
       "    .dataframe tbody tr th:only-of-type {\n",
       "        vertical-align: middle;\n",
       "    }\n",
       "\n",
       "    .dataframe tbody tr th {\n",
       "        vertical-align: top;\n",
       "    }\n",
       "\n",
       "    .dataframe thead th {\n",
       "        text-align: right;\n",
       "    }\n",
       "</style>\n",
       "<table border=\"1\" class=\"dataframe\">\n",
       "  <thead>\n",
       "    <tr style=\"text-align: right;\">\n",
       "      <th></th>\n",
       "      <th>Opening</th>\n",
       "      <th>Opening.1</th>\n",
       "      <th>Title</th>\n",
       "      <th>Production company</th>\n",
       "      <th>Cast and crew</th>\n",
       "      <th>Ref.</th>\n",
       "      <th>genres</th>\n",
       "    </tr>\n",
       "  </thead>\n",
       "  <tbody>\n",
       "    <tr>\n",
       "      <th>0</th>\n",
       "      <td>JANUARY</td>\n",
       "      <td>5</td>\n",
       "      <td>Insidious: The Last Key</td>\n",
       "      <td>Universal Pictures / Blumhouse Productions / S...</td>\n",
       "      <td>Adam Robitel (director); Leigh Whannell (scree...</td>\n",
       "      <td>[2]</td>\n",
       "      <td>Horror Mystery Thriller</td>\n",
       "    </tr>\n",
       "    <tr>\n",
       "      <th>1</th>\n",
       "      <td>JANUARY</td>\n",
       "      <td>5</td>\n",
       "      <td>The Strange Ones</td>\n",
       "      <td>Vertical Entertainment</td>\n",
       "      <td>Lauren Wolkstein (director); Christopher Radcl...</td>\n",
       "      <td>[3]</td>\n",
       "      <td>Thriller Drama</td>\n",
       "    </tr>\n",
       "    <tr>\n",
       "      <th>2</th>\n",
       "      <td>JANUARY</td>\n",
       "      <td>5</td>\n",
       "      <td>Stratton</td>\n",
       "      <td>Momentum Pictures</td>\n",
       "      <td>Simon West (director); Duncan Falconer, Warren...</td>\n",
       "      <td>[4]</td>\n",
       "      <td>Action Thriller</td>\n",
       "    </tr>\n",
       "    <tr>\n",
       "      <th>3</th>\n",
       "      <td>JANUARY</td>\n",
       "      <td>10</td>\n",
       "      <td>Sweet Country</td>\n",
       "      <td>Samuel Goldwyn Films</td>\n",
       "      <td>Warwick Thornton (director); David Tranter, St...</td>\n",
       "      <td>[5]</td>\n",
       "      <td>Drama History Western</td>\n",
       "    </tr>\n",
       "    <tr>\n",
       "      <th>4</th>\n",
       "      <td>JANUARY</td>\n",
       "      <td>12</td>\n",
       "      <td>The Commuter</td>\n",
       "      <td>Lionsgate / StudioCanal / The Picture Company</td>\n",
       "      <td>Jaume Collet-Serra (director); Byron Willinger...</td>\n",
       "      <td>[6]</td>\n",
       "      <td>Action Thriller</td>\n",
       "    </tr>\n",
       "    <tr>\n",
       "      <th>...</th>\n",
       "      <td>...</td>\n",
       "      <td>...</td>\n",
       "      <td>...</td>\n",
       "      <td>...</td>\n",
       "      <td>...</td>\n",
       "      <td>...</td>\n",
       "      <td>...</td>\n",
       "    </tr>\n",
       "    <tr>\n",
       "      <th>264</th>\n",
       "      <td>DECEMBER</td>\n",
       "      <td>25</td>\n",
       "      <td>Holmes &amp; Watson</td>\n",
       "      <td>Columbia Pictures / Gary Sanchez Productions</td>\n",
       "      <td>Etan Cohen (director/screenplay); Will Ferrell...</td>\n",
       "      <td>[163]</td>\n",
       "      <td>Mystery Adventure Comedy Crime</td>\n",
       "    </tr>\n",
       "    <tr>\n",
       "      <th>265</th>\n",
       "      <td>DECEMBER</td>\n",
       "      <td>25</td>\n",
       "      <td>Vice</td>\n",
       "      <td>Annapurna Pictures / Plan B Entertainment</td>\n",
       "      <td>Adam McKay (director/screenplay); Christian Ba...</td>\n",
       "      <td>[137]</td>\n",
       "      <td>Thriller Science Fiction Action Adventure</td>\n",
       "    </tr>\n",
       "    <tr>\n",
       "      <th>266</th>\n",
       "      <td>DECEMBER</td>\n",
       "      <td>25</td>\n",
       "      <td>On the Basis of Sex</td>\n",
       "      <td>Focus Features</td>\n",
       "      <td>Mimi Leder (director); Daniel Stiepleman (scre...</td>\n",
       "      <td>[226]</td>\n",
       "      <td>Drama History</td>\n",
       "    </tr>\n",
       "    <tr>\n",
       "      <th>267</th>\n",
       "      <td>DECEMBER</td>\n",
       "      <td>25</td>\n",
       "      <td>Destroyer</td>\n",
       "      <td>Annapurna Pictures</td>\n",
       "      <td>Karyn Kusama (director); Phil Hay, Matt Manfre...</td>\n",
       "      <td>[258]</td>\n",
       "      <td>Thriller Crime Drama Action</td>\n",
       "    </tr>\n",
       "    <tr>\n",
       "      <th>268</th>\n",
       "      <td>DECEMBER</td>\n",
       "      <td>28</td>\n",
       "      <td>Black Mirror: Bandersnatch</td>\n",
       "      <td>Netflix</td>\n",
       "      <td>David Slade (director); Charlie Brooker (scree...</td>\n",
       "      <td>[259]</td>\n",
       "      <td>Science Fiction Mystery Drama Thriller TV Movie</td>\n",
       "    </tr>\n",
       "  </tbody>\n",
       "</table>\n",
       "<p>269 rows × 7 columns</p>\n",
       "</div>"
      ],
      "text/plain": [
       "      Opening  Opening.1                       Title  \\\n",
       "0     JANUARY          5     Insidious: The Last Key   \n",
       "1     JANUARY          5            The Strange Ones   \n",
       "2     JANUARY          5                    Stratton   \n",
       "3     JANUARY         10               Sweet Country   \n",
       "4     JANUARY         12                The Commuter   \n",
       "..        ...        ...                         ...   \n",
       "264  DECEMBER         25             Holmes & Watson   \n",
       "265  DECEMBER         25                        Vice   \n",
       "266  DECEMBER         25         On the Basis of Sex   \n",
       "267  DECEMBER         25                   Destroyer   \n",
       "268  DECEMBER         28  Black Mirror: Bandersnatch   \n",
       "\n",
       "                                    Production company  \\\n",
       "0    Universal Pictures / Blumhouse Productions / S...   \n",
       "1                               Vertical Entertainment   \n",
       "2                                    Momentum Pictures   \n",
       "3                                 Samuel Goldwyn Films   \n",
       "4        Lionsgate / StudioCanal / The Picture Company   \n",
       "..                                                 ...   \n",
       "264       Columbia Pictures / Gary Sanchez Productions   \n",
       "265          Annapurna Pictures / Plan B Entertainment   \n",
       "266                                     Focus Features   \n",
       "267                                 Annapurna Pictures   \n",
       "268                                            Netflix   \n",
       "\n",
       "                                         Cast and crew   Ref.  \\\n",
       "0    Adam Robitel (director); Leigh Whannell (scree...    [2]   \n",
       "1    Lauren Wolkstein (director); Christopher Radcl...    [3]   \n",
       "2    Simon West (director); Duncan Falconer, Warren...    [4]   \n",
       "3    Warwick Thornton (director); David Tranter, St...    [5]   \n",
       "4    Jaume Collet-Serra (director); Byron Willinger...    [6]   \n",
       "..                                                 ...    ...   \n",
       "264  Etan Cohen (director/screenplay); Will Ferrell...  [163]   \n",
       "265  Adam McKay (director/screenplay); Christian Ba...  [137]   \n",
       "266  Mimi Leder (director); Daniel Stiepleman (scre...  [226]   \n",
       "267  Karyn Kusama (director); Phil Hay, Matt Manfre...  [258]   \n",
       "268  David Slade (director); Charlie Brooker (scree...  [259]   \n",
       "\n",
       "                                              genres  \n",
       "0                            Horror Mystery Thriller  \n",
       "1                                     Thriller Drama  \n",
       "2                                    Action Thriller  \n",
       "3                              Drama History Western  \n",
       "4                                    Action Thriller  \n",
       "..                                               ...  \n",
       "264                   Mystery Adventure Comedy Crime  \n",
       "265        Thriller Science Fiction Action Adventure  \n",
       "266                                    Drama History  \n",
       "267                      Thriller Crime Drama Action  \n",
       "268  Science Fiction Mystery Drama Thriller TV Movie  \n",
       "\n",
       "[269 rows x 7 columns]"
      ]
     },
     "execution_count": 46,
     "metadata": {},
     "output_type": "execute_result"
    }
   ],
   "source": [
    "df"
   ]
  },
  {
   "cell_type": "code",
   "execution_count": null,
   "metadata": {},
   "outputs": [],
   "source": []
  },
  {
   "cell_type": "code",
   "execution_count": 93,
   "metadata": {
    "ExecuteTime": {
     "end_time": "2021-05-11T20:25:52.697406Z",
     "start_time": "2021-05-11T20:25:52.673395Z"
    }
   },
   "outputs": [
    {
     "data": {
      "text/html": [
       "<div>\n",
       "<style scoped>\n",
       "    .dataframe tbody tr th:only-of-type {\n",
       "        vertical-align: middle;\n",
       "    }\n",
       "\n",
       "    .dataframe tbody tr th {\n",
       "        vertical-align: top;\n",
       "    }\n",
       "\n",
       "    .dataframe thead th {\n",
       "        text-align: right;\n",
       "    }\n",
       "</style>\n",
       "<table border=\"1\" class=\"dataframe\">\n",
       "  <thead>\n",
       "    <tr style=\"text-align: right;\">\n",
       "      <th></th>\n",
       "      <th>Title</th>\n",
       "      <th>Cast and crew</th>\n",
       "      <th>genres</th>\n",
       "    </tr>\n",
       "  </thead>\n",
       "  <tbody>\n",
       "    <tr>\n",
       "      <th>0</th>\n",
       "      <td>Insidious: The Last Key</td>\n",
       "      <td>Adam Robitel (director); Leigh Whannell (scree...</td>\n",
       "      <td>Horror Mystery Thriller</td>\n",
       "    </tr>\n",
       "    <tr>\n",
       "      <th>1</th>\n",
       "      <td>The Strange Ones</td>\n",
       "      <td>Lauren Wolkstein (director); Christopher Radcl...</td>\n",
       "      <td>Thriller Drama</td>\n",
       "    </tr>\n",
       "    <tr>\n",
       "      <th>2</th>\n",
       "      <td>Stratton</td>\n",
       "      <td>Simon West (director); Duncan Falconer, Warren...</td>\n",
       "      <td>Action Thriller</td>\n",
       "    </tr>\n",
       "    <tr>\n",
       "      <th>3</th>\n",
       "      <td>Sweet Country</td>\n",
       "      <td>Warwick Thornton (director); David Tranter, St...</td>\n",
       "      <td>Drama History Western</td>\n",
       "    </tr>\n",
       "    <tr>\n",
       "      <th>4</th>\n",
       "      <td>The Commuter</td>\n",
       "      <td>Jaume Collet-Serra (director); Byron Willinger...</td>\n",
       "      <td>Action Thriller</td>\n",
       "    </tr>\n",
       "    <tr>\n",
       "      <th>...</th>\n",
       "      <td>...</td>\n",
       "      <td>...</td>\n",
       "      <td>...</td>\n",
       "    </tr>\n",
       "    <tr>\n",
       "      <th>264</th>\n",
       "      <td>Holmes &amp; Watson</td>\n",
       "      <td>Etan Cohen (director/screenplay); Will Ferrell...</td>\n",
       "      <td>Mystery Adventure Comedy Crime</td>\n",
       "    </tr>\n",
       "    <tr>\n",
       "      <th>265</th>\n",
       "      <td>Vice</td>\n",
       "      <td>Adam McKay (director/screenplay); Christian Ba...</td>\n",
       "      <td>Thriller Science Fiction Action Adventure</td>\n",
       "    </tr>\n",
       "    <tr>\n",
       "      <th>266</th>\n",
       "      <td>On the Basis of Sex</td>\n",
       "      <td>Mimi Leder (director); Daniel Stiepleman (scre...</td>\n",
       "      <td>Drama History</td>\n",
       "    </tr>\n",
       "    <tr>\n",
       "      <th>267</th>\n",
       "      <td>Destroyer</td>\n",
       "      <td>Karyn Kusama (director); Phil Hay, Matt Manfre...</td>\n",
       "      <td>Thriller Crime Drama Action</td>\n",
       "    </tr>\n",
       "    <tr>\n",
       "      <th>268</th>\n",
       "      <td>Black Mirror: Bandersnatch</td>\n",
       "      <td>David Slade (director); Charlie Brooker (scree...</td>\n",
       "      <td>Science Fiction Mystery Drama Thriller TV Movie</td>\n",
       "    </tr>\n",
       "  </tbody>\n",
       "</table>\n",
       "<p>269 rows × 3 columns</p>\n",
       "</div>"
      ],
      "text/plain": [
       "                          Title                                      Cast and crew                                           genres\n",
       "0       Insidious: The Last Key  Adam Robitel (director); Leigh Whannell (scree...                          Horror Mystery Thriller\n",
       "1              The Strange Ones  Lauren Wolkstein (director); Christopher Radcl...                                   Thriller Drama\n",
       "2                      Stratton  Simon West (director); Duncan Falconer, Warren...                                  Action Thriller\n",
       "3                 Sweet Country  Warwick Thornton (director); David Tranter, St...                            Drama History Western\n",
       "4                  The Commuter  Jaume Collet-Serra (director); Byron Willinger...                                  Action Thriller\n",
       "..                          ...                                                ...                                              ...\n",
       "264             Holmes & Watson  Etan Cohen (director/screenplay); Will Ferrell...                   Mystery Adventure Comedy Crime\n",
       "265                        Vice  Adam McKay (director/screenplay); Christian Ba...        Thriller Science Fiction Action Adventure\n",
       "266         On the Basis of Sex  Mimi Leder (director); Daniel Stiepleman (scre...                                    Drama History\n",
       "267                   Destroyer  Karyn Kusama (director); Phil Hay, Matt Manfre...                      Thriller Crime Drama Action\n",
       "268  Black Mirror: Bandersnatch  David Slade (director); Charlie Brooker (scree...  Science Fiction Mystery Drama Thriller TV Movie\n",
       "\n",
       "[269 rows x 3 columns]"
      ]
     },
     "execution_count": 93,
     "metadata": {},
     "output_type": "execute_result"
    }
   ],
   "source": [
    "# now only taking the fields that we need \n",
    "\n",
    "df_2018= df[['Title','Cast and crew','genres']]\n",
    "df_2018"
   ]
  },
  {
   "cell_type": "code",
   "execution_count": 64,
   "metadata": {
    "ExecuteTime": {
     "end_time": "2021-05-11T20:02:08.079121Z",
     "start_time": "2021-05-11T20:02:08.075121Z"
    }
   },
   "outputs": [],
   "source": [
    "# now we will write functions to extract director, actor 1,2,3 from Cast and crew field\n",
    "\n",
    "# the cast and crew data is extracted from wikipedia which has the below form.\n",
    "# so to extract director we will, extract name before  (director)/ (directors)/ or (director/screenplay)\n",
    "# to extract actors, we will extract actor 1,2 3  from the list after (screenplay);"
   ]
  },
  {
   "attachments": {
    "image.png": {
     "image/png": "[encoded data removed]"
    }
   },
   "cell_type": "markdown",
   "metadata": {
    "ExecuteTime": {
     "end_time": "2021-05-11T19:34:47.978236Z",
     "start_time": "2021-05-11T19:34:47.954329Z"
    }
   },
   "source": [
    "![image.png](attachment:image.png)"
   ]
  },
  {
   "cell_type": "code",
   "execution_count": 100,
   "metadata": {
    "ExecuteTime": {
     "end_time": "2021-05-11T20:28:26.184344Z",
     "start_time": "2021-05-11T20:28:26.172368Z"
    }
   },
   "outputs": [],
   "source": [
    "def get_director(x):\n",
    "    if \" (director)\" in x:\n",
    "        return x.split(\" (director)\")[0] #spliting \" (director)\" and taking the name before it\n",
    "    elif  \" (directors)\" in x:\n",
    "        return x.split(\" (director)\")[0]\n",
    "    else:\n",
    "        return x.split(\" (director/screenplay)\")[0]\n",
    "        "
   ]
  },
  {
   "cell_type": "code",
   "execution_count": 101,
   "metadata": {
    "ExecuteTime": {
     "end_time": "2021-05-11T20:28:26.668434Z",
     "start_time": "2021-05-11T20:28:26.656406Z"
    }
   },
   "outputs": [
    {
     "name": "stderr",
     "output_type": "stream",
     "text": [
      "<ipython-input-101-2b40ba3fffe6>:1: SettingWithCopyWarning: \n",
      "A value is trying to be set on a copy of a slice from a DataFrame.\n",
      "Try using .loc[row_indexer,col_indexer] = value instead\n",
      "\n",
      "See the caveats in the documentation: https://pandas.pydata.org/pandas-docs/stable/user_guide/indexing.html#returning-a-view-versus-a-copy\n",
      "  df_2018['director_name']=df_2018['Cast and crew'].map(lambda x: get_director(x))\n"
     ]
    }
   ],
   "source": [
    "df_2018['director_name']=df_2018['Cast and crew'].map(lambda x: get_director(x))"
   ]
  },
  {
   "cell_type": "code",
   "execution_count": 103,
   "metadata": {
    "ExecuteTime": {
     "end_time": "2021-05-11T20:28:54.708225Z",
     "start_time": "2021-05-11T20:28:54.684226Z"
    }
   },
   "outputs": [
    {
     "data": {
      "text/html": [
       "<div>\n",
       "<style scoped>\n",
       "    .dataframe tbody tr th:only-of-type {\n",
       "        vertical-align: middle;\n",
       "    }\n",
       "\n",
       "    .dataframe tbody tr th {\n",
       "        vertical-align: top;\n",
       "    }\n",
       "\n",
       "    .dataframe thead th {\n",
       "        text-align: right;\n",
       "    }\n",
       "</style>\n",
       "<table border=\"1\" class=\"dataframe\">\n",
       "  <thead>\n",
       "    <tr style=\"text-align: right;\">\n",
       "      <th></th>\n",
       "      <th>Title</th>\n",
       "      <th>Cast and crew</th>\n",
       "      <th>genres</th>\n",
       "      <th>director_name</th>\n",
       "    </tr>\n",
       "  </thead>\n",
       "  <tbody>\n",
       "    <tr>\n",
       "      <th>0</th>\n",
       "      <td>Insidious: The Last Key</td>\n",
       "      <td>Adam Robitel (director); Leigh Whannell (scree...</td>\n",
       "      <td>Horror Mystery Thriller</td>\n",
       "      <td>Adam Robitel</td>\n",
       "    </tr>\n",
       "    <tr>\n",
       "      <th>1</th>\n",
       "      <td>The Strange Ones</td>\n",
       "      <td>Lauren Wolkstein (director); Christopher Radcl...</td>\n",
       "      <td>Thriller Drama</td>\n",
       "      <td>Lauren Wolkstein</td>\n",
       "    </tr>\n",
       "    <tr>\n",
       "      <th>2</th>\n",
       "      <td>Stratton</td>\n",
       "      <td>Simon West (director); Duncan Falconer, Warren...</td>\n",
       "      <td>Action Thriller</td>\n",
       "      <td>Simon West</td>\n",
       "    </tr>\n",
       "    <tr>\n",
       "      <th>3</th>\n",
       "      <td>Sweet Country</td>\n",
       "      <td>Warwick Thornton (director); David Tranter, St...</td>\n",
       "      <td>Drama History Western</td>\n",
       "      <td>Warwick Thornton</td>\n",
       "    </tr>\n",
       "    <tr>\n",
       "      <th>4</th>\n",
       "      <td>The Commuter</td>\n",
       "      <td>Jaume Collet-Serra (director); Byron Willinger...</td>\n",
       "      <td>Action Thriller</td>\n",
       "      <td>Jaume Collet-Serra</td>\n",
       "    </tr>\n",
       "  </tbody>\n",
       "</table>\n",
       "</div>"
      ],
      "text/plain": [
       "                     Title                                      Cast and crew                   genres       director_name\n",
       "0  Insidious: The Last Key  Adam Robitel (director); Leigh Whannell (scree...  Horror Mystery Thriller        Adam Robitel\n",
       "1         The Strange Ones  Lauren Wolkstein (director); Christopher Radcl...           Thriller Drama    Lauren Wolkstein\n",
       "2                 Stratton  Simon West (director); Duncan Falconer, Warren...          Action Thriller          Simon West\n",
       "3            Sweet Country  Warwick Thornton (director); David Tranter, St...    Drama History Western    Warwick Thornton\n",
       "4             The Commuter  Jaume Collet-Serra (director); Byron Willinger...          Action Thriller  Jaume Collet-Serra"
      ]
     },
     "execution_count": 103,
     "metadata": {},
     "output_type": "execute_result"
    }
   ],
   "source": [
    "df_2018.head()"
   ]
  },
  {
   "cell_type": "code",
   "execution_count": 116,
   "metadata": {
    "ExecuteTime": {
     "end_time": "2021-05-11T20:39:49.602213Z",
     "start_time": "2021-05-11T20:39:49.590212Z"
    }
   },
   "outputs": [],
   "source": [
    "def get_actor1(x):\n",
    "    return ((x.split(\"screenplay); \")[-1]).split(\", \")[0])\n",
    "\n",
    "    #splitting after \"screenplay); \" taking all data after splitting criteria \n",
    "    # and then again splitting the result based on (\", \") and taking the first value as actor 1"
   ]
  },
  {
   "cell_type": "code",
   "execution_count": 117,
   "metadata": {
    "ExecuteTime": {
     "end_time": "2021-05-11T20:40:46.697039Z",
     "start_time": "2021-05-11T20:40:46.681039Z"
    }
   },
   "outputs": [
    {
     "name": "stderr",
     "output_type": "stream",
     "text": [
      "<ipython-input-117-1f14c3ff6f07>:1: SettingWithCopyWarning: \n",
      "A value is trying to be set on a copy of a slice from a DataFrame.\n",
      "Try using .loc[row_indexer,col_indexer] = value instead\n",
      "\n",
      "See the caveats in the documentation: https://pandas.pydata.org/pandas-docs/stable/user_guide/indexing.html#returning-a-view-versus-a-copy\n",
      "  df_2018['actor_1_name']=df_2018['Cast and crew'].map(lambda x: get_actor1(x) )\n"
     ]
    }
   ],
   "source": [
    "df_2018['actor_1_name']=df_2018['Cast and crew'].map(lambda x: get_actor1(x) )"
   ]
  },
  {
   "cell_type": "code",
   "execution_count": 118,
   "metadata": {
    "ExecuteTime": {
     "end_time": "2021-05-11T20:40:56.502479Z",
     "start_time": "2021-05-11T20:40:56.478480Z"
    }
   },
   "outputs": [
    {
     "data": {
      "text/html": [
       "<div>\n",
       "<style scoped>\n",
       "    .dataframe tbody tr th:only-of-type {\n",
       "        vertical-align: middle;\n",
       "    }\n",
       "\n",
       "    .dataframe tbody tr th {\n",
       "        vertical-align: top;\n",
       "    }\n",
       "\n",
       "    .dataframe thead th {\n",
       "        text-align: right;\n",
       "    }\n",
       "</style>\n",
       "<table border=\"1\" class=\"dataframe\">\n",
       "  <thead>\n",
       "    <tr style=\"text-align: right;\">\n",
       "      <th></th>\n",
       "      <th>Title</th>\n",
       "      <th>Cast and crew</th>\n",
       "      <th>genres</th>\n",
       "      <th>director_name</th>\n",
       "      <th>actor_1_name</th>\n",
       "    </tr>\n",
       "  </thead>\n",
       "  <tbody>\n",
       "    <tr>\n",
       "      <th>0</th>\n",
       "      <td>Insidious: The Last Key</td>\n",
       "      <td>Adam Robitel (director); Leigh Whannell (scree...</td>\n",
       "      <td>Horror Mystery Thriller</td>\n",
       "      <td>Adam Robitel</td>\n",
       "      <td>Lin Shaye</td>\n",
       "    </tr>\n",
       "    <tr>\n",
       "      <th>1</th>\n",
       "      <td>The Strange Ones</td>\n",
       "      <td>Lauren Wolkstein (director); Christopher Radcl...</td>\n",
       "      <td>Thriller Drama</td>\n",
       "      <td>Lauren Wolkstein</td>\n",
       "      <td>Alex Pettyfer</td>\n",
       "    </tr>\n",
       "    <tr>\n",
       "      <th>2</th>\n",
       "      <td>Stratton</td>\n",
       "      <td>Simon West (director); Duncan Falconer, Warren...</td>\n",
       "      <td>Action Thriller</td>\n",
       "      <td>Simon West</td>\n",
       "      <td>Dominic Cooper</td>\n",
       "    </tr>\n",
       "    <tr>\n",
       "      <th>3</th>\n",
       "      <td>Sweet Country</td>\n",
       "      <td>Warwick Thornton (director); David Tranter, St...</td>\n",
       "      <td>Drama History Western</td>\n",
       "      <td>Warwick Thornton</td>\n",
       "      <td>Bryan Brown</td>\n",
       "    </tr>\n",
       "    <tr>\n",
       "      <th>4</th>\n",
       "      <td>The Commuter</td>\n",
       "      <td>Jaume Collet-Serra (director); Byron Willinger...</td>\n",
       "      <td>Action Thriller</td>\n",
       "      <td>Jaume Collet-Serra</td>\n",
       "      <td>Liam Neeson</td>\n",
       "    </tr>\n",
       "  </tbody>\n",
       "</table>\n",
       "</div>"
      ],
      "text/plain": [
       "                     Title                                      Cast and crew                   genres       director_name    actor_1_name\n",
       "0  Insidious: The Last Key  Adam Robitel (director); Leigh Whannell (scree...  Horror Mystery Thriller        Adam Robitel       Lin Shaye\n",
       "1         The Strange Ones  Lauren Wolkstein (director); Christopher Radcl...           Thriller Drama    Lauren Wolkstein   Alex Pettyfer\n",
       "2                 Stratton  Simon West (director); Duncan Falconer, Warren...          Action Thriller          Simon West  Dominic Cooper\n",
       "3            Sweet Country  Warwick Thornton (director); David Tranter, St...    Drama History Western    Warwick Thornton     Bryan Brown\n",
       "4             The Commuter  Jaume Collet-Serra (director); Byron Willinger...          Action Thriller  Jaume Collet-Serra     Liam Neeson"
      ]
     },
     "execution_count": 118,
     "metadata": {},
     "output_type": "execute_result"
    }
   ],
   "source": [
    "df_2018.head()"
   ]
  },
  {
   "cell_type": "code",
   "execution_count": null,
   "metadata": {},
   "outputs": [],
   "source": []
  },
  {
   "cell_type": "code",
   "execution_count": 119,
   "metadata": {
    "ExecuteTime": {
     "end_time": "2021-05-11T20:46:37.550793Z",
     "start_time": "2021-05-11T20:46:37.542795Z"
    }
   },
   "outputs": [],
   "source": [
    "def get_actor2(x):\n",
    "    if len((x.split(\"screenplay); \")[-1]).split(\", \") ) < 2:\n",
    "        return np.NaN\n",
    "    else:\n",
    "        return ((x.split(\"screenplay); \")[-1]).split(\", \")[1])"
   ]
  },
  {
   "cell_type": "code",
   "execution_count": 120,
   "metadata": {
    "ExecuteTime": {
     "end_time": "2021-05-11T20:46:53.966505Z",
     "start_time": "2021-05-11T20:46:53.946504Z"
    }
   },
   "outputs": [
    {
     "name": "stderr",
     "output_type": "stream",
     "text": [
      "<ipython-input-120-6a1e6d792491>:1: SettingWithCopyWarning: \n",
      "A value is trying to be set on a copy of a slice from a DataFrame.\n",
      "Try using .loc[row_indexer,col_indexer] = value instead\n",
      "\n",
      "See the caveats in the documentation: https://pandas.pydata.org/pandas-docs/stable/user_guide/indexing.html#returning-a-view-versus-a-copy\n",
      "  df_2018['actor_2_name']=df_2018['Cast and crew'].map(lambda x: get_actor2(x) )\n"
     ]
    }
   ],
   "source": [
    "df_2018['actor_2_name']=df_2018['Cast and crew'].map(lambda x: get_actor2(x) )"
   ]
  },
  {
   "cell_type": "code",
   "execution_count": 122,
   "metadata": {
    "ExecuteTime": {
     "end_time": "2021-05-11T20:47:08.078743Z",
     "start_time": "2021-05-11T20:47:08.058734Z"
    }
   },
   "outputs": [
    {
     "data": {
      "text/html": [
       "<div>\n",
       "<style scoped>\n",
       "    .dataframe tbody tr th:only-of-type {\n",
       "        vertical-align: middle;\n",
       "    }\n",
       "\n",
       "    .dataframe tbody tr th {\n",
       "        vertical-align: top;\n",
       "    }\n",
       "\n",
       "    .dataframe thead th {\n",
       "        text-align: right;\n",
       "    }\n",
       "</style>\n",
       "<table border=\"1\" class=\"dataframe\">\n",
       "  <thead>\n",
       "    <tr style=\"text-align: right;\">\n",
       "      <th></th>\n",
       "      <th>Title</th>\n",
       "      <th>Cast and crew</th>\n",
       "      <th>genres</th>\n",
       "      <th>director_name</th>\n",
       "      <th>actor_1_name</th>\n",
       "      <th>actor_2_name</th>\n",
       "    </tr>\n",
       "  </thead>\n",
       "  <tbody>\n",
       "    <tr>\n",
       "      <th>0</th>\n",
       "      <td>Insidious: The Last Key</td>\n",
       "      <td>Adam Robitel (director); Leigh Whannell (scree...</td>\n",
       "      <td>Horror Mystery Thriller</td>\n",
       "      <td>Adam Robitel</td>\n",
       "      <td>Lin Shaye</td>\n",
       "      <td>Angus Sampson</td>\n",
       "    </tr>\n",
       "    <tr>\n",
       "      <th>1</th>\n",
       "      <td>The Strange Ones</td>\n",
       "      <td>Lauren Wolkstein (director); Christopher Radcl...</td>\n",
       "      <td>Thriller Drama</td>\n",
       "      <td>Lauren Wolkstein</td>\n",
       "      <td>Alex Pettyfer</td>\n",
       "      <td>James Freedson-Jackson</td>\n",
       "    </tr>\n",
       "    <tr>\n",
       "      <th>2</th>\n",
       "      <td>Stratton</td>\n",
       "      <td>Simon West (director); Duncan Falconer, Warren...</td>\n",
       "      <td>Action Thriller</td>\n",
       "      <td>Simon West</td>\n",
       "      <td>Dominic Cooper</td>\n",
       "      <td>Austin Stowell</td>\n",
       "    </tr>\n",
       "    <tr>\n",
       "      <th>3</th>\n",
       "      <td>Sweet Country</td>\n",
       "      <td>Warwick Thornton (director); David Tranter, St...</td>\n",
       "      <td>Drama History Western</td>\n",
       "      <td>Warwick Thornton</td>\n",
       "      <td>Bryan Brown</td>\n",
       "      <td>Sam Neill</td>\n",
       "    </tr>\n",
       "    <tr>\n",
       "      <th>4</th>\n",
       "      <td>The Commuter</td>\n",
       "      <td>Jaume Collet-Serra (director); Byron Willinger...</td>\n",
       "      <td>Action Thriller</td>\n",
       "      <td>Jaume Collet-Serra</td>\n",
       "      <td>Liam Neeson</td>\n",
       "      <td>Vera Farmiga</td>\n",
       "    </tr>\n",
       "  </tbody>\n",
       "</table>\n",
       "</div>"
      ],
      "text/plain": [
       "                     Title                                      Cast and crew                   genres       director_name    actor_1_name            actor_2_name\n",
       "0  Insidious: The Last Key  Adam Robitel (director); Leigh Whannell (scree...  Horror Mystery Thriller        Adam Robitel       Lin Shaye           Angus Sampson\n",
       "1         The Strange Ones  Lauren Wolkstein (director); Christopher Radcl...           Thriller Drama    Lauren Wolkstein   Alex Pettyfer  James Freedson-Jackson\n",
       "2                 Stratton  Simon West (director); Duncan Falconer, Warren...          Action Thriller          Simon West  Dominic Cooper          Austin Stowell\n",
       "3            Sweet Country  Warwick Thornton (director); David Tranter, St...    Drama History Western    Warwick Thornton     Bryan Brown               Sam Neill\n",
       "4             The Commuter  Jaume Collet-Serra (director); Byron Willinger...          Action Thriller  Jaume Collet-Serra     Liam Neeson            Vera Farmiga"
      ]
     },
     "execution_count": 122,
     "metadata": {},
     "output_type": "execute_result"
    }
   ],
   "source": [
    "df_2018.head()"
   ]
  },
  {
   "cell_type": "code",
   "execution_count": 161,
   "metadata": {
    "ExecuteTime": {
     "end_time": "2021-05-11T21:54:51.796438Z",
     "start_time": "2021-05-11T21:54:51.780509Z"
    }
   },
   "outputs": [],
   "source": [
    "def get_actor3(x):\n",
    "    if len((x.split(\"screenplay); \")[-1]).split(\", \") ) < 3:\n",
    "        return np.NaN\n",
    "    else:\n",
    "        return ((x.split(\"screenplay); \")[-1]).split(\", \")[2])"
   ]
  },
  {
   "cell_type": "code",
   "execution_count": 162,
   "metadata": {
    "ExecuteTime": {
     "end_time": "2021-05-11T21:54:52.190847Z",
     "start_time": "2021-05-11T21:54:52.175877Z"
    }
   },
   "outputs": [],
   "source": [
    "df_2018['actor_3_name']=df_2018['Cast and crew'].map(lambda x: get_actor3(x) )"
   ]
  },
  {
   "cell_type": "code",
   "execution_count": 163,
   "metadata": {
    "ExecuteTime": {
     "end_time": "2021-05-11T21:54:52.381707Z",
     "start_time": "2021-05-11T21:54:52.357736Z"
    }
   },
   "outputs": [
    {
     "data": {
      "text/html": [
       "<div>\n",
       "<style scoped>\n",
       "    .dataframe tbody tr th:only-of-type {\n",
       "        vertical-align: middle;\n",
       "    }\n",
       "\n",
       "    .dataframe tbody tr th {\n",
       "        vertical-align: top;\n",
       "    }\n",
       "\n",
       "    .dataframe thead th {\n",
       "        text-align: right;\n",
       "    }\n",
       "</style>\n",
       "<table border=\"1\" class=\"dataframe\">\n",
       "  <thead>\n",
       "    <tr style=\"text-align: right;\">\n",
       "      <th></th>\n",
       "      <th>movie_title</th>\n",
       "      <th>Cast and crew</th>\n",
       "      <th>genres</th>\n",
       "      <th>director_name</th>\n",
       "      <th>actor_1_name</th>\n",
       "      <th>actor_2_name</th>\n",
       "      <th>actor_3_name</th>\n",
       "    </tr>\n",
       "  </thead>\n",
       "  <tbody>\n",
       "    <tr>\n",
       "      <th>0</th>\n",
       "      <td>Insidious: The Last Key</td>\n",
       "      <td>Adam Robitel (director); Leigh Whannell (scree...</td>\n",
       "      <td>Horror Mystery Thriller</td>\n",
       "      <td>Adam Robitel</td>\n",
       "      <td>Lin Shaye</td>\n",
       "      <td>Angus Sampson</td>\n",
       "      <td>Leigh Whannell</td>\n",
       "    </tr>\n",
       "    <tr>\n",
       "      <th>1</th>\n",
       "      <td>The Strange Ones</td>\n",
       "      <td>Lauren Wolkstein (director); Christopher Radcl...</td>\n",
       "      <td>Thriller Drama</td>\n",
       "      <td>Lauren Wolkstein</td>\n",
       "      <td>Alex Pettyfer</td>\n",
       "      <td>James Freedson-Jackson</td>\n",
       "      <td>Emily Althaus</td>\n",
       "    </tr>\n",
       "    <tr>\n",
       "      <th>2</th>\n",
       "      <td>Stratton</td>\n",
       "      <td>Simon West (director); Duncan Falconer, Warren...</td>\n",
       "      <td>Action Thriller</td>\n",
       "      <td>Simon West</td>\n",
       "      <td>Dominic Cooper</td>\n",
       "      <td>Austin Stowell</td>\n",
       "      <td>Gemma Chan</td>\n",
       "    </tr>\n",
       "    <tr>\n",
       "      <th>3</th>\n",
       "      <td>Sweet Country</td>\n",
       "      <td>Warwick Thornton (director); David Tranter, St...</td>\n",
       "      <td>Drama History Western</td>\n",
       "      <td>Warwick Thornton</td>\n",
       "      <td>Bryan Brown</td>\n",
       "      <td>Sam Neill</td>\n",
       "      <td>NaN</td>\n",
       "    </tr>\n",
       "    <tr>\n",
       "      <th>4</th>\n",
       "      <td>The Commuter</td>\n",
       "      <td>Jaume Collet-Serra (director); Byron Willinger...</td>\n",
       "      <td>Action Thriller</td>\n",
       "      <td>Jaume Collet-Serra</td>\n",
       "      <td>Liam Neeson</td>\n",
       "      <td>Vera Farmiga</td>\n",
       "      <td>Patrick Wilson</td>\n",
       "    </tr>\n",
       "  </tbody>\n",
       "</table>\n",
       "</div>"
      ],
      "text/plain": [
       "               movie_title                                      Cast and crew                   genres       director_name    actor_1_name            actor_2_name    actor_3_name\n",
       "0  Insidious: The Last Key  Adam Robitel (director); Leigh Whannell (scree...  Horror Mystery Thriller        Adam Robitel       Lin Shaye           Angus Sampson  Leigh Whannell\n",
       "1         The Strange Ones  Lauren Wolkstein (director); Christopher Radcl...           Thriller Drama    Lauren Wolkstein   Alex Pettyfer  James Freedson-Jackson   Emily Althaus\n",
       "2                 Stratton  Simon West (director); Duncan Falconer, Warren...          Action Thriller          Simon West  Dominic Cooper          Austin Stowell      Gemma Chan\n",
       "3            Sweet Country  Warwick Thornton (director); David Tranter, St...    Drama History Western    Warwick Thornton     Bryan Brown               Sam Neill             NaN\n",
       "4             The Commuter  Jaume Collet-Serra (director); Byron Willinger...          Action Thriller  Jaume Collet-Serra     Liam Neeson            Vera Farmiga  Patrick Wilson"
      ]
     },
     "execution_count": 163,
     "metadata": {},
     "output_type": "execute_result"
    }
   ],
   "source": [
    "df_2018.head()"
   ]
  },
  {
   "cell_type": "code",
   "execution_count": 164,
   "metadata": {
    "ExecuteTime": {
     "end_time": "2021-05-11T21:54:52.553847Z",
     "start_time": "2021-05-11T21:54:52.538887Z"
    }
   },
   "outputs": [],
   "source": [
    "#renaming column names to match previous processing files\n",
    "\n",
    "df_2018=df_2018.rename(columns={'Title':'movie_title'})"
   ]
  },
  {
   "cell_type": "code",
   "execution_count": 165,
   "metadata": {
    "ExecuteTime": {
     "end_time": "2021-05-11T21:54:52.727408Z",
     "start_time": "2021-05-11T21:54:52.717436Z"
    }
   },
   "outputs": [],
   "source": [
    "# only keeping the needed columns\n",
    "new_df18 = df_2018.loc[:,['director_name','actor_1_name','actor_2_name','actor_3_name','genres','movie_title']]"
   ]
  },
  {
   "cell_type": "code",
   "execution_count": 166,
   "metadata": {
    "ExecuteTime": {
     "end_time": "2021-05-11T21:54:52.898933Z",
     "start_time": "2021-05-11T21:54:52.871970Z"
    }
   },
   "outputs": [
    {
     "data": {
      "text/html": [
       "<div>\n",
       "<style scoped>\n",
       "    .dataframe tbody tr th:only-of-type {\n",
       "        vertical-align: middle;\n",
       "    }\n",
       "\n",
       "    .dataframe tbody tr th {\n",
       "        vertical-align: top;\n",
       "    }\n",
       "\n",
       "    .dataframe thead th {\n",
       "        text-align: right;\n",
       "    }\n",
       "</style>\n",
       "<table border=\"1\" class=\"dataframe\">\n",
       "  <thead>\n",
       "    <tr style=\"text-align: right;\">\n",
       "      <th></th>\n",
       "      <th>director_name</th>\n",
       "      <th>actor_1_name</th>\n",
       "      <th>actor_2_name</th>\n",
       "      <th>actor_3_name</th>\n",
       "      <th>genres</th>\n",
       "      <th>movie_title</th>\n",
       "    </tr>\n",
       "  </thead>\n",
       "  <tbody>\n",
       "    <tr>\n",
       "      <th>0</th>\n",
       "      <td>Adam Robitel</td>\n",
       "      <td>Lin Shaye</td>\n",
       "      <td>Angus Sampson</td>\n",
       "      <td>Leigh Whannell</td>\n",
       "      <td>Horror Mystery Thriller</td>\n",
       "      <td>Insidious: The Last Key</td>\n",
       "    </tr>\n",
       "    <tr>\n",
       "      <th>1</th>\n",
       "      <td>Lauren Wolkstein</td>\n",
       "      <td>Alex Pettyfer</td>\n",
       "      <td>James Freedson-Jackson</td>\n",
       "      <td>Emily Althaus</td>\n",
       "      <td>Thriller Drama</td>\n",
       "      <td>The Strange Ones</td>\n",
       "    </tr>\n",
       "    <tr>\n",
       "      <th>2</th>\n",
       "      <td>Simon West</td>\n",
       "      <td>Dominic Cooper</td>\n",
       "      <td>Austin Stowell</td>\n",
       "      <td>Gemma Chan</td>\n",
       "      <td>Action Thriller</td>\n",
       "      <td>Stratton</td>\n",
       "    </tr>\n",
       "    <tr>\n",
       "      <th>3</th>\n",
       "      <td>Warwick Thornton</td>\n",
       "      <td>Bryan Brown</td>\n",
       "      <td>Sam Neill</td>\n",
       "      <td>NaN</td>\n",
       "      <td>Drama History Western</td>\n",
       "      <td>Sweet Country</td>\n",
       "    </tr>\n",
       "    <tr>\n",
       "      <th>4</th>\n",
       "      <td>Jaume Collet-Serra</td>\n",
       "      <td>Liam Neeson</td>\n",
       "      <td>Vera Farmiga</td>\n",
       "      <td>Patrick Wilson</td>\n",
       "      <td>Action Thriller</td>\n",
       "      <td>The Commuter</td>\n",
       "    </tr>\n",
       "    <tr>\n",
       "      <th>...</th>\n",
       "      <td>...</td>\n",
       "      <td>...</td>\n",
       "      <td>...</td>\n",
       "      <td>...</td>\n",
       "      <td>...</td>\n",
       "      <td>...</td>\n",
       "    </tr>\n",
       "    <tr>\n",
       "      <th>264</th>\n",
       "      <td>Etan Cohen</td>\n",
       "      <td>Will Ferrell</td>\n",
       "      <td>John C. Reilly</td>\n",
       "      <td>Rebecca Hall</td>\n",
       "      <td>Mystery Adventure Comedy Crime</td>\n",
       "      <td>Holmes &amp; Watson</td>\n",
       "    </tr>\n",
       "    <tr>\n",
       "      <th>265</th>\n",
       "      <td>Adam McKay</td>\n",
       "      <td>Christian Bale</td>\n",
       "      <td>Amy Adams</td>\n",
       "      <td>Steve Carell</td>\n",
       "      <td>Thriller Science Fiction Action Adventure</td>\n",
       "      <td>Vice</td>\n",
       "    </tr>\n",
       "    <tr>\n",
       "      <th>266</th>\n",
       "      <td>Mimi Leder</td>\n",
       "      <td>Felicity Jones</td>\n",
       "      <td>Armie Hammer</td>\n",
       "      <td>Justin Theroux</td>\n",
       "      <td>Drama History</td>\n",
       "      <td>On the Basis of Sex</td>\n",
       "    </tr>\n",
       "    <tr>\n",
       "      <th>267</th>\n",
       "      <td>Karyn Kusama</td>\n",
       "      <td>Nicole Kidman</td>\n",
       "      <td>Sebastian Stan</td>\n",
       "      <td>Toby Kebbell</td>\n",
       "      <td>Thriller Crime Drama Action</td>\n",
       "      <td>Destroyer</td>\n",
       "    </tr>\n",
       "    <tr>\n",
       "      <th>268</th>\n",
       "      <td>David Slade</td>\n",
       "      <td>Fionn Whitehead</td>\n",
       "      <td>Will Poulter</td>\n",
       "      <td>Asim Chaudhry</td>\n",
       "      <td>Science Fiction Mystery Drama Thriller TV Movie</td>\n",
       "      <td>Black Mirror: Bandersnatch</td>\n",
       "    </tr>\n",
       "  </tbody>\n",
       "</table>\n",
       "<p>269 rows × 6 columns</p>\n",
       "</div>"
      ],
      "text/plain": [
       "          director_name     actor_1_name            actor_2_name    actor_3_name                                           genres                 movie_title\n",
       "0          Adam Robitel        Lin Shaye           Angus Sampson  Leigh Whannell                          Horror Mystery Thriller     Insidious: The Last Key\n",
       "1      Lauren Wolkstein    Alex Pettyfer  James Freedson-Jackson   Emily Althaus                                   Thriller Drama            The Strange Ones\n",
       "2            Simon West   Dominic Cooper          Austin Stowell      Gemma Chan                                  Action Thriller                    Stratton\n",
       "3      Warwick Thornton      Bryan Brown               Sam Neill             NaN                            Drama History Western               Sweet Country\n",
       "4    Jaume Collet-Serra      Liam Neeson            Vera Farmiga  Patrick Wilson                                  Action Thriller                The Commuter\n",
       "..                  ...              ...                     ...             ...                                              ...                         ...\n",
       "264          Etan Cohen     Will Ferrell          John C. Reilly    Rebecca Hall                   Mystery Adventure Comedy Crime             Holmes & Watson\n",
       "265          Adam McKay   Christian Bale               Amy Adams    Steve Carell        Thriller Science Fiction Action Adventure                        Vice\n",
       "266          Mimi Leder   Felicity Jones            Armie Hammer  Justin Theroux                                    Drama History         On the Basis of Sex\n",
       "267        Karyn Kusama    Nicole Kidman          Sebastian Stan    Toby Kebbell                      Thriller Crime Drama Action                   Destroyer\n",
       "268         David Slade  Fionn Whitehead            Will Poulter   Asim Chaudhry  Science Fiction Mystery Drama Thriller TV Movie  Black Mirror: Bandersnatch\n",
       "\n",
       "[269 rows x 6 columns]"
      ]
     },
     "execution_count": 166,
     "metadata": {},
     "output_type": "execute_result"
    }
   ],
   "source": [
    "new_df18"
   ]
  },
  {
   "cell_type": "code",
   "execution_count": 167,
   "metadata": {
    "ExecuteTime": {
     "end_time": "2021-05-11T21:54:53.369173Z",
     "start_time": "2021-05-11T21:54:53.355209Z"
    }
   },
   "outputs": [],
   "source": [
    "# replacing NAN actor2 and actor3 with 'UNKNOWN' value\n",
    "\n",
    "new_df18['actor_2_name']=new_df18['actor_2_name'].replace(np.NaN,'UNKNOWN')\n",
    "new_df18['actor_3_name']=new_df18['actor_3_name'].replace(np.NaN,'UNKNOWN')"
   ]
  },
  {
   "cell_type": "code",
   "execution_count": 168,
   "metadata": {
    "ExecuteTime": {
     "end_time": "2021-05-11T21:54:53.683692Z",
     "start_time": "2021-05-11T21:54:53.662711Z"
    }
   },
   "outputs": [],
   "source": [
    "new_df18['movie_title']=new_df18['movie_title'].str.lower()"
   ]
  },
  {
   "cell_type": "code",
   "execution_count": 169,
   "metadata": {
    "ExecuteTime": {
     "end_time": "2021-05-11T21:54:54.125382Z",
     "start_time": "2021-05-11T21:54:54.113408Z"
    }
   },
   "outputs": [],
   "source": [
    "new_df18['comb'] = new_df18['actor_1_name'] + ' ' + new_df18['actor_2_name'] + ' '+ new_df18['actor_3_name'] + ' '+\\\n",
    "new_df18['director_name'] +' ' + new_df18['genres']"
   ]
  },
  {
   "cell_type": "code",
   "execution_count": 170,
   "metadata": {
    "ExecuteTime": {
     "end_time": "2021-05-11T21:54:54.311829Z",
     "start_time": "2021-05-11T21:54:54.292880Z"
    }
   },
   "outputs": [
    {
     "data": {
      "text/html": [
       "<div>\n",
       "<style scoped>\n",
       "    .dataframe tbody tr th:only-of-type {\n",
       "        vertical-align: middle;\n",
       "    }\n",
       "\n",
       "    .dataframe tbody tr th {\n",
       "        vertical-align: top;\n",
       "    }\n",
       "\n",
       "    .dataframe thead th {\n",
       "        text-align: right;\n",
       "    }\n",
       "</style>\n",
       "<table border=\"1\" class=\"dataframe\">\n",
       "  <thead>\n",
       "    <tr style=\"text-align: right;\">\n",
       "      <th></th>\n",
       "      <th>director_name</th>\n",
       "      <th>actor_1_name</th>\n",
       "      <th>actor_2_name</th>\n",
       "      <th>actor_3_name</th>\n",
       "      <th>genres</th>\n",
       "      <th>movie_title</th>\n",
       "      <th>comb</th>\n",
       "    </tr>\n",
       "  </thead>\n",
       "  <tbody>\n",
       "    <tr>\n",
       "      <th>0</th>\n",
       "      <td>Adam Robitel</td>\n",
       "      <td>Lin Shaye</td>\n",
       "      <td>Angus Sampson</td>\n",
       "      <td>Leigh Whannell</td>\n",
       "      <td>Horror Mystery Thriller</td>\n",
       "      <td>insidious: the last key</td>\n",
       "      <td>Lin Shaye Angus Sampson Leigh Whannell Adam Ro...</td>\n",
       "    </tr>\n",
       "    <tr>\n",
       "      <th>1</th>\n",
       "      <td>Lauren Wolkstein</td>\n",
       "      <td>Alex Pettyfer</td>\n",
       "      <td>James Freedson-Jackson</td>\n",
       "      <td>Emily Althaus</td>\n",
       "      <td>Thriller Drama</td>\n",
       "      <td>the strange ones</td>\n",
       "      <td>Alex Pettyfer James Freedson-Jackson Emily Alt...</td>\n",
       "    </tr>\n",
       "    <tr>\n",
       "      <th>2</th>\n",
       "      <td>Simon West</td>\n",
       "      <td>Dominic Cooper</td>\n",
       "      <td>Austin Stowell</td>\n",
       "      <td>Gemma Chan</td>\n",
       "      <td>Action Thriller</td>\n",
       "      <td>stratton</td>\n",
       "      <td>Dominic Cooper Austin Stowell Gemma Chan Simon...</td>\n",
       "    </tr>\n",
       "    <tr>\n",
       "      <th>3</th>\n",
       "      <td>Warwick Thornton</td>\n",
       "      <td>Bryan Brown</td>\n",
       "      <td>Sam Neill</td>\n",
       "      <td>UNKNOWN</td>\n",
       "      <td>Drama History Western</td>\n",
       "      <td>sweet country</td>\n",
       "      <td>Bryan Brown Sam Neill UNKNOWN Warwick Thornton...</td>\n",
       "    </tr>\n",
       "    <tr>\n",
       "      <th>4</th>\n",
       "      <td>Jaume Collet-Serra</td>\n",
       "      <td>Liam Neeson</td>\n",
       "      <td>Vera Farmiga</td>\n",
       "      <td>Patrick Wilson</td>\n",
       "      <td>Action Thriller</td>\n",
       "      <td>the commuter</td>\n",
       "      <td>Liam Neeson Vera Farmiga Patrick Wilson Jaume ...</td>\n",
       "    </tr>\n",
       "    <tr>\n",
       "      <th>...</th>\n",
       "      <td>...</td>\n",
       "      <td>...</td>\n",
       "      <td>...</td>\n",
       "      <td>...</td>\n",
       "      <td>...</td>\n",
       "      <td>...</td>\n",
       "      <td>...</td>\n",
       "    </tr>\n",
       "    <tr>\n",
       "      <th>264</th>\n",
       "      <td>Etan Cohen</td>\n",
       "      <td>Will Ferrell</td>\n",
       "      <td>John C. Reilly</td>\n",
       "      <td>Rebecca Hall</td>\n",
       "      <td>Mystery Adventure Comedy Crime</td>\n",
       "      <td>holmes &amp; watson</td>\n",
       "      <td>Will Ferrell John C. Reilly Rebecca Hall Etan ...</td>\n",
       "    </tr>\n",
       "    <tr>\n",
       "      <th>265</th>\n",
       "      <td>Adam McKay</td>\n",
       "      <td>Christian Bale</td>\n",
       "      <td>Amy Adams</td>\n",
       "      <td>Steve Carell</td>\n",
       "      <td>Thriller Science Fiction Action Adventure</td>\n",
       "      <td>vice</td>\n",
       "      <td>Christian Bale Amy Adams Steve Carell Adam McK...</td>\n",
       "    </tr>\n",
       "    <tr>\n",
       "      <th>266</th>\n",
       "      <td>Mimi Leder</td>\n",
       "      <td>Felicity Jones</td>\n",
       "      <td>Armie Hammer</td>\n",
       "      <td>Justin Theroux</td>\n",
       "      <td>Drama History</td>\n",
       "      <td>on the basis of sex</td>\n",
       "      <td>Felicity Jones Armie Hammer Justin Theroux Mim...</td>\n",
       "    </tr>\n",
       "    <tr>\n",
       "      <th>267</th>\n",
       "      <td>Karyn Kusama</td>\n",
       "      <td>Nicole Kidman</td>\n",
       "      <td>Sebastian Stan</td>\n",
       "      <td>Toby Kebbell</td>\n",
       "      <td>Thriller Crime Drama Action</td>\n",
       "      <td>destroyer</td>\n",
       "      <td>Nicole Kidman Sebastian Stan Toby Kebbell Kary...</td>\n",
       "    </tr>\n",
       "    <tr>\n",
       "      <th>268</th>\n",
       "      <td>David Slade</td>\n",
       "      <td>Fionn Whitehead</td>\n",
       "      <td>Will Poulter</td>\n",
       "      <td>Asim Chaudhry</td>\n",
       "      <td>Science Fiction Mystery Drama Thriller TV Movie</td>\n",
       "      <td>black mirror: bandersnatch</td>\n",
       "      <td>Fionn Whitehead Will Poulter Asim Chaudhry Dav...</td>\n",
       "    </tr>\n",
       "  </tbody>\n",
       "</table>\n",
       "<p>269 rows × 7 columns</p>\n",
       "</div>"
      ],
      "text/plain": [
       "          director_name     actor_1_name            actor_2_name    actor_3_name                                           genres                 movie_title                                               comb\n",
       "0          Adam Robitel        Lin Shaye           Angus Sampson  Leigh Whannell                          Horror Mystery Thriller     insidious: the last key  Lin Shaye Angus Sampson Leigh Whannell Adam Ro...\n",
       "1      Lauren Wolkstein    Alex Pettyfer  James Freedson-Jackson   Emily Althaus                                   Thriller Drama            the strange ones  Alex Pettyfer James Freedson-Jackson Emily Alt...\n",
       "2            Simon West   Dominic Cooper          Austin Stowell      Gemma Chan                                  Action Thriller                    stratton  Dominic Cooper Austin Stowell Gemma Chan Simon...\n",
       "3      Warwick Thornton      Bryan Brown               Sam Neill         UNKNOWN                            Drama History Western               sweet country  Bryan Brown Sam Neill UNKNOWN Warwick Thornton...\n",
       "4    Jaume Collet-Serra      Liam Neeson            Vera Farmiga  Patrick Wilson                                  Action Thriller                the commuter  Liam Neeson Vera Farmiga Patrick Wilson Jaume ...\n",
       "..                  ...              ...                     ...             ...                                              ...                         ...                                                ...\n",
       "264          Etan Cohen     Will Ferrell          John C. Reilly    Rebecca Hall                   Mystery Adventure Comedy Crime             holmes & watson  Will Ferrell John C. Reilly Rebecca Hall Etan ...\n",
       "265          Adam McKay   Christian Bale               Amy Adams    Steve Carell        Thriller Science Fiction Action Adventure                        vice  Christian Bale Amy Adams Steve Carell Adam McK...\n",
       "266          Mimi Leder   Felicity Jones            Armie Hammer  Justin Theroux                                    Drama History         on the basis of sex  Felicity Jones Armie Hammer Justin Theroux Mim...\n",
       "267        Karyn Kusama    Nicole Kidman          Sebastian Stan    Toby Kebbell                      Thriller Crime Drama Action                   destroyer  Nicole Kidman Sebastian Stan Toby Kebbell Kary...\n",
       "268         David Slade  Fionn Whitehead            Will Poulter   Asim Chaudhry  Science Fiction Mystery Drama Thriller TV Movie  black mirror: bandersnatch  Fionn Whitehead Will Poulter Asim Chaudhry Dav...\n",
       "\n",
       "[269 rows x 7 columns]"
      ]
     },
     "execution_count": 170,
     "metadata": {},
     "output_type": "execute_result"
    }
   ],
   "source": [
    "new_df18"
   ]
  },
  {
   "cell_type": "code",
   "execution_count": null,
   "metadata": {},
   "outputs": [],
   "source": []
  },
  {
   "cell_type": "markdown",
   "metadata": {},
   "source": [
    "## Extracting features of 2019 movies from Wikipedia"
   ]
  },
  {
   "cell_type": "code",
   "execution_count": 202,
   "metadata": {
    "ExecuteTime": {
     "end_time": "2021-05-12T20:29:54.661169Z",
     "start_time": "2021-05-12T20:29:54.626068Z"
    }
   },
   "outputs": [],
   "source": [
    "# Since the extraction of the entire process for 2019 data is the same as 2018,\n",
    "# we will create a resusable function and then call it get the 2019 as well as 2020 data\n",
    "# for the functiont be resusable we will use a specialist web scraping library beautiful soup\n",
    "# beautiful soup will help us to automatically idenify the tables that we need based on the class= 'wikitable sortable'\n",
    "\n",
    "\n",
    "def get_movie_data(wikilink):\n",
    "    import pandas as pd\n",
    "    import numpy as np\n",
    "    import requests\n",
    "    import bs4\n",
    "    import urllib.request\n",
    "    source = urllib.request.urlopen(wikilink).read()\n",
    "    soup = bs4.BeautifulSoup(source,'lxml')\n",
    "    tables = soup.find_all('table',class_='wikitable sortable')\n",
    "    \n",
    "    df1=pd.read_html(str(tables[0]))[0]\n",
    "    df2=pd.read_html(str(tables[1]))[0]\n",
    "    df3=pd.read_html(str(tables[2]))[0]\n",
    "    df4=pd.read_html(str(tables[3]))[0] \n",
    "    \n",
    "    df=df1.append(df2.append(df3.append(df4,ignore_index=True),ignore_index=True),ignore_index=True)\n",
    "    \n",
    "    from tmdbv3api import TMDb\n",
    "    import json\n",
    "    import requests\n",
    "    tmdb=TMDb()\n",
    "    tmdb.api_key='40b54d7df35213771dbeee679c888397'\n",
    "    from tmdbv3api import Movie\n",
    "    tmdb_movie= Movie()\n",
    "    \n",
    "    def get_genre(x):\n",
    "        genres = []\n",
    "        result = tmdb_movie.search(x)\n",
    "        \n",
    "        #also adding a condition if there is so result retrieved for the requested movie\n",
    "        if not result:\n",
    "          return np.NaN\n",
    "        else:\n",
    "          movie_id = result[0].id\n",
    "          response = requests.get('https://api.themoviedb.org/3/movie/{}?api_key={}'.format(movie_id,tmdb.api_key))\n",
    "          data_json = response.json()\n",
    "          if data_json['genres']:\n",
    "              genre_str = \" \" \n",
    "              for i in range(0,len(data_json['genres'])):\n",
    "                  genres.append(data_json['genres'][i]['name'])\n",
    "              return genre_str.join(genres)\n",
    "          else:\n",
    "              return np.NaN\n",
    "            \n",
    "    df['genres']=df['Title'].map(lambda x: get_genre(str(x)))\n",
    "    df_2018= df[['Title','Cast and crew','genres']]\n",
    "    \n",
    "    def get_director(x):\n",
    "        if \" (director)\" in x:\n",
    "            return x.split(\" (director)\")[0] #spliting \" (director)\" and taking the name before it\n",
    "        elif  \" (directors)\" in x:\n",
    "            return x.split(\" (director)\")[0]\n",
    "        else:\n",
    "            return x.split(\" (director/screenplay)\")[0]\n",
    "        \n",
    "    df_2018['director_name']=df_2018['Cast and crew'].map(lambda x: get_director(x))\n",
    "    \n",
    "    def get_actor1(x):\n",
    "        return ((x.split(\"screenplay); \")[-1]).split(\", \")[0])\n",
    "    \n",
    "    df_2018['actor_1_name']=df_2018['Cast and crew'].map(lambda x: get_actor1(x) )\n",
    "    \n",
    "    def get_actor2(x):\n",
    "        if len((x.split(\"screenplay); \")[-1]).split(\", \") ) < 2:\n",
    "            return np.NaN\n",
    "        else:\n",
    "            return ((x.split(\"screenplay); \")[-1]).split(\", \")[1])\n",
    "        \n",
    "    df_2018['actor_2_name']=df_2018['Cast and crew'].map(lambda x: get_actor2(x) )\n",
    "    \n",
    "    \n",
    "    def get_actor3(x):\n",
    "        if len((x.split(\"screenplay); \")[-1]).split(\", \") ) < 3:\n",
    "            return np.NaN\n",
    "        else:\n",
    "            return ((x.split(\"screenplay); \")[-1]).split(\", \")[2])\n",
    "    \n",
    "    df_2018['actor_3_name']=df_2018['Cast and crew'].map(lambda x: get_actor3(x) )\n",
    "    \n",
    "    df_2018=df_2018.rename(columns={'Title':'movie_title'})\n",
    "    \n",
    "    new_df18 = df_2018.loc[:,['director_name','actor_1_name','actor_2_name','actor_3_name','genres','movie_title']]\n",
    "    \n",
    "    new_df18['actor_2_name']=new_df18['actor_2_name'].replace(np.NaN,'UNKNOWN')\n",
    "    new_df18['actor_3_name']=new_df18['actor_3_name'].replace(np.NaN,'UNKNOWN')\n",
    "    \n",
    "    new_df18['movie_title']=new_df18['movie_title'].str.lower()\n",
    "    \n",
    "    new_df18['comb'] = new_df18['actor_1_name'] + ' ' + new_df18['actor_2_name'] + ' '+ new_df18['actor_3_name'] + ' '+\\\n",
    "    new_df18['director_name'] +' ' + new_df18['genres']\n",
    "    \n",
    "    return new_df18\n"
   ]
  },
  {
   "cell_type": "code",
   "execution_count": 203,
   "metadata": {
    "ExecuteTime": {
     "end_time": "2021-05-12T20:30:16.082014Z",
     "start_time": "2021-05-12T20:29:58.630445Z"
    }
   },
   "outputs": [
    {
     "name": "stderr",
     "output_type": "stream",
     "text": [
      "<ipython-input-202-5acfe823b9d1>:62: SettingWithCopyWarning: \n",
      "A value is trying to be set on a copy of a slice from a DataFrame.\n",
      "Try using .loc[row_indexer,col_indexer] = value instead\n",
      "\n",
      "See the caveats in the documentation: https://pandas.pydata.org/pandas-docs/stable/user_guide/indexing.html#returning-a-view-versus-a-copy\n",
      "  df_2018['director_name']=df_2018['Cast and crew'].map(lambda x: get_director(x))\n",
      "<ipython-input-202-5acfe823b9d1>:67: SettingWithCopyWarning: \n",
      "A value is trying to be set on a copy of a slice from a DataFrame.\n",
      "Try using .loc[row_indexer,col_indexer] = value instead\n",
      "\n",
      "See the caveats in the documentation: https://pandas.pydata.org/pandas-docs/stable/user_guide/indexing.html#returning-a-view-versus-a-copy\n",
      "  df_2018['actor_1_name']=df_2018['Cast and crew'].map(lambda x: get_actor1(x) )\n",
      "<ipython-input-202-5acfe823b9d1>:75: SettingWithCopyWarning: \n",
      "A value is trying to be set on a copy of a slice from a DataFrame.\n",
      "Try using .loc[row_indexer,col_indexer] = value instead\n",
      "\n",
      "See the caveats in the documentation: https://pandas.pydata.org/pandas-docs/stable/user_guide/indexing.html#returning-a-view-versus-a-copy\n",
      "  df_2018['actor_2_name']=df_2018['Cast and crew'].map(lambda x: get_actor2(x) )\n"
     ]
    }
   ],
   "source": [
    "# calling the get_movie_data function and store the resulting data frame in a new df\n",
    "\n",
    "wikilink=\"https://en.wikipedia.org/wiki/List_of_American_films_of_2019\"\n",
    "new_df19=get_movie_data(wikilink)"
   ]
  },
  {
   "cell_type": "code",
   "execution_count": 204,
   "metadata": {
    "ExecuteTime": {
     "end_time": "2021-05-12T20:30:41.755706Z",
     "start_time": "2021-05-12T20:30:41.731770Z"
    }
   },
   "outputs": [
    {
     "data": {
      "text/html": [
       "<div>\n",
       "<style scoped>\n",
       "    .dataframe tbody tr th:only-of-type {\n",
       "        vertical-align: middle;\n",
       "    }\n",
       "\n",
       "    .dataframe tbody tr th {\n",
       "        vertical-align: top;\n",
       "    }\n",
       "\n",
       "    .dataframe thead th {\n",
       "        text-align: right;\n",
       "    }\n",
       "</style>\n",
       "<table border=\"1\" class=\"dataframe\">\n",
       "  <thead>\n",
       "    <tr style=\"text-align: right;\">\n",
       "      <th></th>\n",
       "      <th>director_name</th>\n",
       "      <th>actor_1_name</th>\n",
       "      <th>actor_2_name</th>\n",
       "      <th>actor_3_name</th>\n",
       "      <th>genres</th>\n",
       "      <th>movie_title</th>\n",
       "      <th>comb</th>\n",
       "    </tr>\n",
       "  </thead>\n",
       "  <tbody>\n",
       "    <tr>\n",
       "      <th>0</th>\n",
       "      <td>Adam Robitel</td>\n",
       "      <td>Taylor Russell</td>\n",
       "      <td>Logan Miller</td>\n",
       "      <td>Deborah Ann Woll</td>\n",
       "      <td>Thriller Action Mystery Adventure Horror</td>\n",
       "      <td>escape room</td>\n",
       "      <td>Taylor Russell Logan Miller Deborah Ann Woll A...</td>\n",
       "    </tr>\n",
       "    <tr>\n",
       "      <th>1</th>\n",
       "      <td>Jen McGowan</td>\n",
       "      <td>Hermione Corfield</td>\n",
       "      <td>Jay Paulson</td>\n",
       "      <td>Sean O'Bryan</td>\n",
       "      <td>Thriller Drama</td>\n",
       "      <td>rust creek</td>\n",
       "      <td>Hermione Corfield Jay Paulson Sean O'Bryan Jen...</td>\n",
       "    </tr>\n",
       "    <tr>\n",
       "      <th>2</th>\n",
       "      <td>Wilson Coneybeare</td>\n",
       "      <td>Donald Sutherland</td>\n",
       "      <td>Vincent Kartheiser</td>\n",
       "      <td>Oliver Dennis</td>\n",
       "      <td>Thriller</td>\n",
       "      <td>american hangman</td>\n",
       "      <td>Donald Sutherland Vincent Kartheiser Oliver De...</td>\n",
       "    </tr>\n",
       "    <tr>\n",
       "      <th>3</th>\n",
       "      <td>Charles Martin Smith</td>\n",
       "      <td>Bryce Dallas Howard</td>\n",
       "      <td>Edward James Olmos</td>\n",
       "      <td>Alexandra Shipp</td>\n",
       "      <td>Drama Adventure Family</td>\n",
       "      <td>a dog's way home</td>\n",
       "      <td>Bryce Dallas Howard Edward James Olmos Alexand...</td>\n",
       "    </tr>\n",
       "    <tr>\n",
       "      <th>4</th>\n",
       "      <td>Neil Burger</td>\n",
       "      <td>Bryan Cranston</td>\n",
       "      <td>Kevin Hart</td>\n",
       "      <td>Nicole Kidman</td>\n",
       "      <td>Comedy Drama</td>\n",
       "      <td>the upside</td>\n",
       "      <td>Bryan Cranston Kevin Hart Nicole Kidman Neil B...</td>\n",
       "    </tr>\n",
       "    <tr>\n",
       "      <th>...</th>\n",
       "      <td>...</td>\n",
       "      <td>...</td>\n",
       "      <td>...</td>\n",
       "      <td>...</td>\n",
       "      <td>...</td>\n",
       "      <td>...</td>\n",
       "      <td>...</td>\n",
       "    </tr>\n",
       "    <tr>\n",
       "      <th>237</th>\n",
       "      <td>Nick Bruno, Troy Quane (directors); Brad Copel...</td>\n",
       "      <td>Will Smith</td>\n",
       "      <td>Tom Holland</td>\n",
       "      <td>Rashida Jones</td>\n",
       "      <td>Animation Action Adventure Comedy Family</td>\n",
       "      <td>spies in disguise</td>\n",
       "      <td>Will Smith Tom Holland Rashida Jones Nick Brun...</td>\n",
       "    </tr>\n",
       "    <tr>\n",
       "      <th>238</th>\n",
       "      <td>Greta Gerwig</td>\n",
       "      <td>Saoirse Ronan</td>\n",
       "      <td>Emma Watson</td>\n",
       "      <td>Florence Pugh</td>\n",
       "      <td>Drama Romance</td>\n",
       "      <td>little women</td>\n",
       "      <td>Saoirse Ronan Emma Watson Florence Pugh Greta ...</td>\n",
       "    </tr>\n",
       "    <tr>\n",
       "      <th>239</th>\n",
       "      <td>Sam Mendes</td>\n",
       "      <td>George MacKay</td>\n",
       "      <td>Dean-Charles Chapman</td>\n",
       "      <td>Mark Strong</td>\n",
       "      <td>War Drama Action Thriller</td>\n",
       "      <td>1917</td>\n",
       "      <td>George MacKay Dean-Charles Chapman Mark Strong...</td>\n",
       "    </tr>\n",
       "    <tr>\n",
       "      <th>240</th>\n",
       "      <td>Destin Daniel Cretton</td>\n",
       "      <td>Michael B. Jordan</td>\n",
       "      <td>Jamie Foxx</td>\n",
       "      <td>Brie Larson</td>\n",
       "      <td>Drama Crime History</td>\n",
       "      <td>just mercy</td>\n",
       "      <td>Michael B. Jordan Jamie Foxx Brie Larson Desti...</td>\n",
       "    </tr>\n",
       "    <tr>\n",
       "      <th>241</th>\n",
       "      <td>Chinonye Chukwu</td>\n",
       "      <td>Alfre Woodard</td>\n",
       "      <td>Wendell Pierce</td>\n",
       "      <td>Aldis Hodge</td>\n",
       "      <td>Drama</td>\n",
       "      <td>clemency</td>\n",
       "      <td>Alfre Woodard Wendell Pierce Aldis Hodge Chino...</td>\n",
       "    </tr>\n",
       "  </tbody>\n",
       "</table>\n",
       "<p>242 rows × 7 columns</p>\n",
       "</div>"
      ],
      "text/plain": [
       "                                         director_name         actor_1_name          actor_2_name      actor_3_name                                    genres        movie_title                                               comb\n",
       "0                                         Adam Robitel       Taylor Russell          Logan Miller  Deborah Ann Woll  Thriller Action Mystery Adventure Horror        escape room  Taylor Russell Logan Miller Deborah Ann Woll A...\n",
       "1                                          Jen McGowan    Hermione Corfield           Jay Paulson      Sean O'Bryan                            Thriller Drama         rust creek  Hermione Corfield Jay Paulson Sean O'Bryan Jen...\n",
       "2                                    Wilson Coneybeare    Donald Sutherland    Vincent Kartheiser     Oliver Dennis                                  Thriller   american hangman  Donald Sutherland Vincent Kartheiser Oliver De...\n",
       "3                                 Charles Martin Smith  Bryce Dallas Howard    Edward James Olmos   Alexandra Shipp                    Drama Adventure Family   a dog's way home  Bryce Dallas Howard Edward James Olmos Alexand...\n",
       "4                                          Neil Burger       Bryan Cranston            Kevin Hart     Nicole Kidman                              Comedy Drama         the upside  Bryan Cranston Kevin Hart Nicole Kidman Neil B...\n",
       "..                                                 ...                  ...                   ...               ...                                       ...                ...                                                ...\n",
       "237  Nick Bruno, Troy Quane (directors); Brad Copel...           Will Smith           Tom Holland     Rashida Jones  Animation Action Adventure Comedy Family  spies in disguise  Will Smith Tom Holland Rashida Jones Nick Brun...\n",
       "238                                       Greta Gerwig        Saoirse Ronan           Emma Watson     Florence Pugh                             Drama Romance       little women  Saoirse Ronan Emma Watson Florence Pugh Greta ...\n",
       "239                                         Sam Mendes        George MacKay  Dean-Charles Chapman       Mark Strong                 War Drama Action Thriller               1917  George MacKay Dean-Charles Chapman Mark Strong...\n",
       "240                              Destin Daniel Cretton    Michael B. Jordan            Jamie Foxx       Brie Larson                       Drama Crime History         just mercy  Michael B. Jordan Jamie Foxx Brie Larson Desti...\n",
       "241                                    Chinonye Chukwu        Alfre Woodard        Wendell Pierce       Aldis Hodge                                     Drama           clemency  Alfre Woodard Wendell Pierce Aldis Hodge Chino...\n",
       "\n",
       "[242 rows x 7 columns]"
      ]
     },
     "execution_count": 204,
     "metadata": {},
     "output_type": "execute_result"
    }
   ],
   "source": [
    "new_df19"
   ]
  },
  {
   "cell_type": "code",
   "execution_count": null,
   "metadata": {},
   "outputs": [],
   "source": []
  },
  {
   "cell_type": "markdown",
   "metadata": {},
   "source": [
    "## Extracting features of 2020 movies from Wikipedia"
   ]
  },
  {
   "cell_type": "code",
   "execution_count": 205,
   "metadata": {
    "ExecuteTime": {
     "end_time": "2021-05-12T20:31:39.939811Z",
     "start_time": "2021-05-12T20:30:46.273845Z"
    }
   },
   "outputs": [
    {
     "name": "stderr",
     "output_type": "stream",
     "text": [
      "<ipython-input-202-5acfe823b9d1>:62: SettingWithCopyWarning: \n",
      "A value is trying to be set on a copy of a slice from a DataFrame.\n",
      "Try using .loc[row_indexer,col_indexer] = value instead\n",
      "\n",
      "See the caveats in the documentation: https://pandas.pydata.org/pandas-docs/stable/user_guide/indexing.html#returning-a-view-versus-a-copy\n",
      "  df_2018['director_name']=df_2018['Cast and crew'].map(lambda x: get_director(x))\n",
      "<ipython-input-202-5acfe823b9d1>:67: SettingWithCopyWarning: \n",
      "A value is trying to be set on a copy of a slice from a DataFrame.\n",
      "Try using .loc[row_indexer,col_indexer] = value instead\n",
      "\n",
      "See the caveats in the documentation: https://pandas.pydata.org/pandas-docs/stable/user_guide/indexing.html#returning-a-view-versus-a-copy\n",
      "  df_2018['actor_1_name']=df_2018['Cast and crew'].map(lambda x: get_actor1(x) )\n",
      "<ipython-input-202-5acfe823b9d1>:75: SettingWithCopyWarning: \n",
      "A value is trying to be set on a copy of a slice from a DataFrame.\n",
      "Try using .loc[row_indexer,col_indexer] = value instead\n",
      "\n",
      "See the caveats in the documentation: https://pandas.pydata.org/pandas-docs/stable/user_guide/indexing.html#returning-a-view-versus-a-copy\n",
      "  df_2018['actor_2_name']=df_2018['Cast and crew'].map(lambda x: get_actor2(x) )\n"
     ]
    }
   ],
   "source": [
    "#using the same function passing the call\n",
    "\n",
    "wikilink=\"https://en.wikipedia.org/wiki/List_of_American_films_of_2020\"\n",
    "new_df20=get_movie_data(wikilink)"
   ]
  },
  {
   "cell_type": "code",
   "execution_count": 206,
   "metadata": {
    "ExecuteTime": {
     "end_time": "2021-05-12T20:31:51.338931Z",
     "start_time": "2021-05-12T20:31:51.321977Z"
    }
   },
   "outputs": [
    {
     "data": {
      "text/html": [
       "<div>\n",
       "<style scoped>\n",
       "    .dataframe tbody tr th:only-of-type {\n",
       "        vertical-align: middle;\n",
       "    }\n",
       "\n",
       "    .dataframe tbody tr th {\n",
       "        vertical-align: top;\n",
       "    }\n",
       "\n",
       "    .dataframe thead th {\n",
       "        text-align: right;\n",
       "    }\n",
       "</style>\n",
       "<table border=\"1\" class=\"dataframe\">\n",
       "  <thead>\n",
       "    <tr style=\"text-align: right;\">\n",
       "      <th></th>\n",
       "      <th>director_name</th>\n",
       "      <th>actor_1_name</th>\n",
       "      <th>actor_2_name</th>\n",
       "      <th>actor_3_name</th>\n",
       "      <th>genres</th>\n",
       "      <th>movie_title</th>\n",
       "      <th>comb</th>\n",
       "    </tr>\n",
       "  </thead>\n",
       "  <tbody>\n",
       "    <tr>\n",
       "      <th>0</th>\n",
       "      <td>Nicolas Pesce</td>\n",
       "      <td>Andrea Riseborough</td>\n",
       "      <td>Demián Bichir</td>\n",
       "      <td>John Cho</td>\n",
       "      <td>Horror Mystery Thriller</td>\n",
       "      <td>the grudge</td>\n",
       "      <td>Andrea Riseborough Demián Bichir John Cho Nico...</td>\n",
       "    </tr>\n",
       "    <tr>\n",
       "      <th>1</th>\n",
       "      <td>William Eubank</td>\n",
       "      <td>Kristen Stewart</td>\n",
       "      <td>Vincent Cassel</td>\n",
       "      <td>Jessica Henwick</td>\n",
       "      <td>Action Horror Science Fiction Thriller</td>\n",
       "      <td>underwater</td>\n",
       "      <td>Kristen Stewart Vincent Cassel Jessica Henwick...</td>\n",
       "    </tr>\n",
       "    <tr>\n",
       "      <th>2</th>\n",
       "      <td>Miguel Arteta</td>\n",
       "      <td>Tiffany Haddish</td>\n",
       "      <td>Rose Byrne</td>\n",
       "      <td>Salma Hayek</td>\n",
       "      <td>Comedy</td>\n",
       "      <td>like a boss</td>\n",
       "      <td>Tiffany Haddish Rose Byrne Salma Hayek Miguel ...</td>\n",
       "    </tr>\n",
       "    <tr>\n",
       "      <th>3</th>\n",
       "      <td>Jon Avnet</td>\n",
       "      <td>Richard Gere</td>\n",
       "      <td>Peter Dinklage</td>\n",
       "      <td>Walton Goggins</td>\n",
       "      <td>Drama</td>\n",
       "      <td>three christs</td>\n",
       "      <td>Richard Gere Peter Dinklage Walton Goggins Jon...</td>\n",
       "    </tr>\n",
       "    <tr>\n",
       "      <th>4</th>\n",
       "      <td>Anthony Jerjen</td>\n",
       "      <td>Josh Hartnett</td>\n",
       "      <td>Margarita Levieva</td>\n",
       "      <td>Chandler Riggs</td>\n",
       "      <td>Drama Thriller Crime</td>\n",
       "      <td>inherit the viper</td>\n",
       "      <td>Josh Hartnett Margarita Levieva Chandler Riggs...</td>\n",
       "    </tr>\n",
       "    <tr>\n",
       "      <th>...</th>\n",
       "      <td>...</td>\n",
       "      <td>...</td>\n",
       "      <td>...</td>\n",
       "      <td>...</td>\n",
       "      <td>...</td>\n",
       "      <td>...</td>\n",
       "      <td>...</td>\n",
       "    </tr>\n",
       "    <tr>\n",
       "      <th>266</th>\n",
       "      <td>Robert Rodriguez</td>\n",
       "      <td>Priyanka Chopra Jonas</td>\n",
       "      <td>Pedro Pascal</td>\n",
       "      <td>YaYa Gosselin</td>\n",
       "      <td>Action Fantasy Family Comedy</td>\n",
       "      <td>we can be heroes</td>\n",
       "      <td>Priyanka Chopra Jonas Pedro Pascal YaYa Gossel...</td>\n",
       "    </tr>\n",
       "    <tr>\n",
       "      <th>267</th>\n",
       "      <td>Paul Greengrass</td>\n",
       "      <td>Tom Hanks</td>\n",
       "      <td>Helena Zengel</td>\n",
       "      <td>UNKNOWN</td>\n",
       "      <td>Action Adventure Drama Western</td>\n",
       "      <td>news of the world</td>\n",
       "      <td>Tom Hanks Helena Zengel UNKNOWN Paul Greengras...</td>\n",
       "    </tr>\n",
       "    <tr>\n",
       "      <th>268</th>\n",
       "      <td>Regina King</td>\n",
       "      <td>Kingsley Ben-Adir</td>\n",
       "      <td>Eli Goree</td>\n",
       "      <td>Aldis Hodge</td>\n",
       "      <td>Drama</td>\n",
       "      <td>one night in miami...</td>\n",
       "      <td>Kingsley Ben-Adir Eli Goree Aldis Hodge Regina...</td>\n",
       "    </tr>\n",
       "    <tr>\n",
       "      <th>269</th>\n",
       "      <td>Emerald Fennell</td>\n",
       "      <td>Carey Mulligan</td>\n",
       "      <td>Bo Burnham</td>\n",
       "      <td>Alison Brie</td>\n",
       "      <td>Thriller Crime Drama</td>\n",
       "      <td>promising young woman</td>\n",
       "      <td>Carey Mulligan Bo Burnham Alison Brie Emerald ...</td>\n",
       "    </tr>\n",
       "    <tr>\n",
       "      <th>270</th>\n",
       "      <td>Kornél Mundruczó</td>\n",
       "      <td>Vanessa Kirby</td>\n",
       "      <td>Shia LaBeouf</td>\n",
       "      <td>Molly Parker</td>\n",
       "      <td>Drama</td>\n",
       "      <td>pieces of a woman</td>\n",
       "      <td>Vanessa Kirby Shia LaBeouf Molly Parker Kornél...</td>\n",
       "    </tr>\n",
       "  </tbody>\n",
       "</table>\n",
       "<p>271 rows × 7 columns</p>\n",
       "</div>"
      ],
      "text/plain": [
       "        director_name           actor_1_name       actor_2_name     actor_3_name                                  genres            movie_title                                               comb\n",
       "0       Nicolas Pesce     Andrea Riseborough      Demián Bichir         John Cho                 Horror Mystery Thriller             the grudge  Andrea Riseborough Demián Bichir John Cho Nico...\n",
       "1      William Eubank        Kristen Stewart     Vincent Cassel  Jessica Henwick  Action Horror Science Fiction Thriller             underwater  Kristen Stewart Vincent Cassel Jessica Henwick...\n",
       "2       Miguel Arteta        Tiffany Haddish         Rose Byrne      Salma Hayek                                  Comedy            like a boss  Tiffany Haddish Rose Byrne Salma Hayek Miguel ...\n",
       "3           Jon Avnet           Richard Gere     Peter Dinklage   Walton Goggins                                   Drama          three christs  Richard Gere Peter Dinklage Walton Goggins Jon...\n",
       "4      Anthony Jerjen          Josh Hartnett  Margarita Levieva   Chandler Riggs                    Drama Thriller Crime      inherit the viper  Josh Hartnett Margarita Levieva Chandler Riggs...\n",
       "..                ...                    ...                ...              ...                                     ...                    ...                                                ...\n",
       "266  Robert Rodriguez  Priyanka Chopra Jonas       Pedro Pascal    YaYa Gosselin            Action Fantasy Family Comedy       we can be heroes  Priyanka Chopra Jonas Pedro Pascal YaYa Gossel...\n",
       "267   Paul Greengrass              Tom Hanks      Helena Zengel          UNKNOWN          Action Adventure Drama Western      news of the world  Tom Hanks Helena Zengel UNKNOWN Paul Greengras...\n",
       "268       Regina King      Kingsley Ben-Adir          Eli Goree      Aldis Hodge                                   Drama  one night in miami...  Kingsley Ben-Adir Eli Goree Aldis Hodge Regina...\n",
       "269   Emerald Fennell         Carey Mulligan         Bo Burnham      Alison Brie                    Thriller Crime Drama  promising young woman  Carey Mulligan Bo Burnham Alison Brie Emerald ...\n",
       "270  Kornél Mundruczó          Vanessa Kirby       Shia LaBeouf     Molly Parker                                   Drama      pieces of a woman  Vanessa Kirby Shia LaBeouf Molly Parker Kornél...\n",
       "\n",
       "[271 rows x 7 columns]"
      ]
     },
     "execution_count": 206,
     "metadata": {},
     "output_type": "execute_result"
    }
   ],
   "source": [
    "new_df20"
   ]
  },
  {
   "cell_type": "code",
   "execution_count": null,
   "metadata": {},
   "outputs": [],
   "source": []
  },
  {
   "cell_type": "code",
   "execution_count": 207,
   "metadata": {
    "ExecuteTime": {
     "end_time": "2021-05-12T20:35:49.334426Z",
     "start_time": "2021-05-12T20:35:49.317472Z"
    }
   },
   "outputs": [],
   "source": [
    "df_181920= new_df18.append(new_df19.append(new_df20,ignore_index=True),ignore_index=True)"
   ]
  },
  {
   "cell_type": "code",
   "execution_count": 208,
   "metadata": {
    "ExecuteTime": {
     "end_time": "2021-05-12T20:35:54.669016Z",
     "start_time": "2021-05-12T20:35:54.647076Z"
    }
   },
   "outputs": [
    {
     "data": {
      "text/html": [
       "<div>\n",
       "<style scoped>\n",
       "    .dataframe tbody tr th:only-of-type {\n",
       "        vertical-align: middle;\n",
       "    }\n",
       "\n",
       "    .dataframe tbody tr th {\n",
       "        vertical-align: top;\n",
       "    }\n",
       "\n",
       "    .dataframe thead th {\n",
       "        text-align: right;\n",
       "    }\n",
       "</style>\n",
       "<table border=\"1\" class=\"dataframe\">\n",
       "  <thead>\n",
       "    <tr style=\"text-align: right;\">\n",
       "      <th></th>\n",
       "      <th>director_name</th>\n",
       "      <th>actor_1_name</th>\n",
       "      <th>actor_2_name</th>\n",
       "      <th>actor_3_name</th>\n",
       "      <th>genres</th>\n",
       "      <th>movie_title</th>\n",
       "      <th>comb</th>\n",
       "    </tr>\n",
       "  </thead>\n",
       "  <tbody>\n",
       "    <tr>\n",
       "      <th>0</th>\n",
       "      <td>Adam Robitel</td>\n",
       "      <td>Lin Shaye</td>\n",
       "      <td>Angus Sampson</td>\n",
       "      <td>Leigh Whannell</td>\n",
       "      <td>Horror Mystery Thriller</td>\n",
       "      <td>insidious: the last key</td>\n",
       "      <td>Lin Shaye Angus Sampson Leigh Whannell Adam Ro...</td>\n",
       "    </tr>\n",
       "    <tr>\n",
       "      <th>1</th>\n",
       "      <td>Lauren Wolkstein</td>\n",
       "      <td>Alex Pettyfer</td>\n",
       "      <td>James Freedson-Jackson</td>\n",
       "      <td>Emily Althaus</td>\n",
       "      <td>Thriller Drama</td>\n",
       "      <td>the strange ones</td>\n",
       "      <td>Alex Pettyfer James Freedson-Jackson Emily Alt...</td>\n",
       "    </tr>\n",
       "    <tr>\n",
       "      <th>2</th>\n",
       "      <td>Simon West</td>\n",
       "      <td>Dominic Cooper</td>\n",
       "      <td>Austin Stowell</td>\n",
       "      <td>Gemma Chan</td>\n",
       "      <td>Action Thriller</td>\n",
       "      <td>stratton</td>\n",
       "      <td>Dominic Cooper Austin Stowell Gemma Chan Simon...</td>\n",
       "    </tr>\n",
       "    <tr>\n",
       "      <th>3</th>\n",
       "      <td>Warwick Thornton</td>\n",
       "      <td>Bryan Brown</td>\n",
       "      <td>Sam Neill</td>\n",
       "      <td>UNKNOWN</td>\n",
       "      <td>Drama History Western</td>\n",
       "      <td>sweet country</td>\n",
       "      <td>Bryan Brown Sam Neill UNKNOWN Warwick Thornton...</td>\n",
       "    </tr>\n",
       "    <tr>\n",
       "      <th>4</th>\n",
       "      <td>Jaume Collet-Serra</td>\n",
       "      <td>Liam Neeson</td>\n",
       "      <td>Vera Farmiga</td>\n",
       "      <td>Patrick Wilson</td>\n",
       "      <td>Action Thriller</td>\n",
       "      <td>the commuter</td>\n",
       "      <td>Liam Neeson Vera Farmiga Patrick Wilson Jaume ...</td>\n",
       "    </tr>\n",
       "    <tr>\n",
       "      <th>...</th>\n",
       "      <td>...</td>\n",
       "      <td>...</td>\n",
       "      <td>...</td>\n",
       "      <td>...</td>\n",
       "      <td>...</td>\n",
       "      <td>...</td>\n",
       "      <td>...</td>\n",
       "    </tr>\n",
       "    <tr>\n",
       "      <th>777</th>\n",
       "      <td>Robert Rodriguez</td>\n",
       "      <td>Priyanka Chopra Jonas</td>\n",
       "      <td>Pedro Pascal</td>\n",
       "      <td>YaYa Gosselin</td>\n",
       "      <td>Action Fantasy Family Comedy</td>\n",
       "      <td>we can be heroes</td>\n",
       "      <td>Priyanka Chopra Jonas Pedro Pascal YaYa Gossel...</td>\n",
       "    </tr>\n",
       "    <tr>\n",
       "      <th>778</th>\n",
       "      <td>Paul Greengrass</td>\n",
       "      <td>Tom Hanks</td>\n",
       "      <td>Helena Zengel</td>\n",
       "      <td>UNKNOWN</td>\n",
       "      <td>Action Adventure Drama Western</td>\n",
       "      <td>news of the world</td>\n",
       "      <td>Tom Hanks Helena Zengel UNKNOWN Paul Greengras...</td>\n",
       "    </tr>\n",
       "    <tr>\n",
       "      <th>779</th>\n",
       "      <td>Regina King</td>\n",
       "      <td>Kingsley Ben-Adir</td>\n",
       "      <td>Eli Goree</td>\n",
       "      <td>Aldis Hodge</td>\n",
       "      <td>Drama</td>\n",
       "      <td>one night in miami...</td>\n",
       "      <td>Kingsley Ben-Adir Eli Goree Aldis Hodge Regina...</td>\n",
       "    </tr>\n",
       "    <tr>\n",
       "      <th>780</th>\n",
       "      <td>Emerald Fennell</td>\n",
       "      <td>Carey Mulligan</td>\n",
       "      <td>Bo Burnham</td>\n",
       "      <td>Alison Brie</td>\n",
       "      <td>Thriller Crime Drama</td>\n",
       "      <td>promising young woman</td>\n",
       "      <td>Carey Mulligan Bo Burnham Alison Brie Emerald ...</td>\n",
       "    </tr>\n",
       "    <tr>\n",
       "      <th>781</th>\n",
       "      <td>Kornél Mundruczó</td>\n",
       "      <td>Vanessa Kirby</td>\n",
       "      <td>Shia LaBeouf</td>\n",
       "      <td>Molly Parker</td>\n",
       "      <td>Drama</td>\n",
       "      <td>pieces of a woman</td>\n",
       "      <td>Vanessa Kirby Shia LaBeouf Molly Parker Kornél...</td>\n",
       "    </tr>\n",
       "  </tbody>\n",
       "</table>\n",
       "<p>782 rows × 7 columns</p>\n",
       "</div>"
      ],
      "text/plain": [
       "          director_name           actor_1_name            actor_2_name    actor_3_name                          genres              movie_title                                               comb\n",
       "0          Adam Robitel              Lin Shaye           Angus Sampson  Leigh Whannell         Horror Mystery Thriller  insidious: the last key  Lin Shaye Angus Sampson Leigh Whannell Adam Ro...\n",
       "1      Lauren Wolkstein          Alex Pettyfer  James Freedson-Jackson   Emily Althaus                  Thriller Drama         the strange ones  Alex Pettyfer James Freedson-Jackson Emily Alt...\n",
       "2            Simon West         Dominic Cooper          Austin Stowell      Gemma Chan                 Action Thriller                 stratton  Dominic Cooper Austin Stowell Gemma Chan Simon...\n",
       "3      Warwick Thornton            Bryan Brown               Sam Neill         UNKNOWN           Drama History Western            sweet country  Bryan Brown Sam Neill UNKNOWN Warwick Thornton...\n",
       "4    Jaume Collet-Serra            Liam Neeson            Vera Farmiga  Patrick Wilson                 Action Thriller             the commuter  Liam Neeson Vera Farmiga Patrick Wilson Jaume ...\n",
       "..                  ...                    ...                     ...             ...                             ...                      ...                                                ...\n",
       "777    Robert Rodriguez  Priyanka Chopra Jonas            Pedro Pascal   YaYa Gosselin    Action Fantasy Family Comedy         we can be heroes  Priyanka Chopra Jonas Pedro Pascal YaYa Gossel...\n",
       "778     Paul Greengrass              Tom Hanks           Helena Zengel         UNKNOWN  Action Adventure Drama Western        news of the world  Tom Hanks Helena Zengel UNKNOWN Paul Greengras...\n",
       "779         Regina King      Kingsley Ben-Adir               Eli Goree     Aldis Hodge                           Drama    one night in miami...  Kingsley Ben-Adir Eli Goree Aldis Hodge Regina...\n",
       "780     Emerald Fennell         Carey Mulligan              Bo Burnham     Alison Brie            Thriller Crime Drama    promising young woman  Carey Mulligan Bo Burnham Alison Brie Emerald ...\n",
       "781    Kornél Mundruczó          Vanessa Kirby            Shia LaBeouf    Molly Parker                           Drama        pieces of a woman  Vanessa Kirby Shia LaBeouf Molly Parker Kornél...\n",
       "\n",
       "[782 rows x 7 columns]"
      ]
     },
     "execution_count": 208,
     "metadata": {},
     "output_type": "execute_result"
    }
   ],
   "source": [
    "df_181920"
   ]
  },
  {
   "cell_type": "code",
   "execution_count": 209,
   "metadata": {
    "ExecuteTime": {
     "end_time": "2021-05-12T20:36:03.673473Z",
     "start_time": "2021-05-12T20:36:03.639542Z"
    }
   },
   "outputs": [],
   "source": [
    "# reading data from processing file 2, i.e data till 2017 movies\n",
    "\n",
    "df_till17=pd.read_csv('new_data.csv')"
   ]
  },
  {
   "cell_type": "code",
   "execution_count": 210,
   "metadata": {
    "ExecuteTime": {
     "end_time": "2021-05-12T20:36:05.474887Z",
     "start_time": "2021-05-12T20:36:05.456951Z"
    }
   },
   "outputs": [
    {
     "data": {
      "text/html": [
       "<div>\n",
       "<style scoped>\n",
       "    .dataframe tbody tr th:only-of-type {\n",
       "        vertical-align: middle;\n",
       "    }\n",
       "\n",
       "    .dataframe tbody tr th {\n",
       "        vertical-align: top;\n",
       "    }\n",
       "\n",
       "    .dataframe thead th {\n",
       "        text-align: right;\n",
       "    }\n",
       "</style>\n",
       "<table border=\"1\" class=\"dataframe\">\n",
       "  <thead>\n",
       "    <tr style=\"text-align: right;\">\n",
       "      <th></th>\n",
       "      <th>director_name</th>\n",
       "      <th>actor_1_name</th>\n",
       "      <th>actor_2_name</th>\n",
       "      <th>actor_3_name</th>\n",
       "      <th>genres</th>\n",
       "      <th>movie_title</th>\n",
       "      <th>comb</th>\n",
       "    </tr>\n",
       "  </thead>\n",
       "  <tbody>\n",
       "    <tr>\n",
       "      <th>0</th>\n",
       "      <td>James Cameron</td>\n",
       "      <td>CCH Pounder</td>\n",
       "      <td>Joel David Moore</td>\n",
       "      <td>Wes Studi</td>\n",
       "      <td>Action Adventure Fantasy Sci-Fi</td>\n",
       "      <td>avatar</td>\n",
       "      <td>CCH Pounder Joel David Moore Wes Studi James C...</td>\n",
       "    </tr>\n",
       "    <tr>\n",
       "      <th>1</th>\n",
       "      <td>Gore Verbinski</td>\n",
       "      <td>Johnny Depp</td>\n",
       "      <td>Orlando Bloom</td>\n",
       "      <td>Jack Davenport</td>\n",
       "      <td>Action Adventure Fantasy</td>\n",
       "      <td>pirates of the caribbean: at world's end</td>\n",
       "      <td>Johnny Depp Orlando Bloom Jack Davenport Gore ...</td>\n",
       "    </tr>\n",
       "    <tr>\n",
       "      <th>2</th>\n",
       "      <td>Sam Mendes</td>\n",
       "      <td>Christoph Waltz</td>\n",
       "      <td>Rory Kinnear</td>\n",
       "      <td>Stephanie Sigman</td>\n",
       "      <td>Action Adventure Thriller</td>\n",
       "      <td>spectre</td>\n",
       "      <td>Christoph Waltz Rory Kinnear Stephanie Sigman ...</td>\n",
       "    </tr>\n",
       "    <tr>\n",
       "      <th>3</th>\n",
       "      <td>Christopher Nolan</td>\n",
       "      <td>Tom Hardy</td>\n",
       "      <td>Christian Bale</td>\n",
       "      <td>Joseph Gordon-Levitt</td>\n",
       "      <td>Action Thriller</td>\n",
       "      <td>the dark knight rises</td>\n",
       "      <td>Tom Hardy Christian Bale Joseph Gordon-Levitt ...</td>\n",
       "    </tr>\n",
       "    <tr>\n",
       "      <th>4</th>\n",
       "      <td>Doug Walker</td>\n",
       "      <td>Doug Walker</td>\n",
       "      <td>Rob Walker</td>\n",
       "      <td>UNKNOWN</td>\n",
       "      <td>Documentary</td>\n",
       "      <td>star wars: episode vii - the force awakens    ...</td>\n",
       "      <td>Doug Walker Rob Walker UNKNOWN Doug Walker Doc...</td>\n",
       "    </tr>\n",
       "    <tr>\n",
       "      <th>...</th>\n",
       "      <td>...</td>\n",
       "      <td>...</td>\n",
       "      <td>...</td>\n",
       "      <td>...</td>\n",
       "      <td>...</td>\n",
       "      <td>...</td>\n",
       "      <td>...</td>\n",
       "    </tr>\n",
       "    <tr>\n",
       "      <th>5359</th>\n",
       "      <td>Jim Strouse</td>\n",
       "      <td>Jessica Williams</td>\n",
       "      <td>Chris O'Dowd</td>\n",
       "      <td>Keith Stanfield</td>\n",
       "      <td>Romance Comedy</td>\n",
       "      <td>the incredible jessica james</td>\n",
       "      <td>Jessica Williams Chris O'Dowd Keith Stanfield ...</td>\n",
       "    </tr>\n",
       "    <tr>\n",
       "      <th>5360</th>\n",
       "      <td>Farhad Mann</td>\n",
       "      <td>Adelaide Kane</td>\n",
       "      <td>Benjamin Hollingsworth</td>\n",
       "      <td>Jean Louisa Kelly</td>\n",
       "      <td>Romance</td>\n",
       "      <td>can't buy my love</td>\n",
       "      <td>Adelaide Kane Benjamin Hollingsworth Jean Loui...</td>\n",
       "    </tr>\n",
       "    <tr>\n",
       "      <th>5361</th>\n",
       "      <td>Hannaleena Hauru</td>\n",
       "      <td>Inka Haapamäki</td>\n",
       "      <td>Rosa Honkonen</td>\n",
       "      <td>Tiitus Rantala</td>\n",
       "      <td>Romance Comedy</td>\n",
       "      <td>thick lashes of lauri mäntyvaara</td>\n",
       "      <td>Inka Haapamäki Rosa Honkonen Tiitus Rantala Ha...</td>\n",
       "    </tr>\n",
       "    <tr>\n",
       "      <th>5362</th>\n",
       "      <td>Jonathan A. Rosenbaum</td>\n",
       "      <td>Lou Diamond Phillips</td>\n",
       "      <td>Wallace Shawn</td>\n",
       "      <td>Gina Holden</td>\n",
       "      <td>Crime Comedy Action Family</td>\n",
       "      <td>cop and a half: new recruit</td>\n",
       "      <td>Lou Diamond Phillips Wallace Shawn Gina Holden...</td>\n",
       "    </tr>\n",
       "    <tr>\n",
       "      <th>5363</th>\n",
       "      <td>Ravi Udyawar</td>\n",
       "      <td>Sridevi Kapoor</td>\n",
       "      <td>Sajal Ali</td>\n",
       "      <td>Akshaye Khanna</td>\n",
       "      <td>Crime Drama Thriller</td>\n",
       "      <td>mom</td>\n",
       "      <td>Sridevi Kapoor Sajal Ali Akshaye Khanna Ravi U...</td>\n",
       "    </tr>\n",
       "  </tbody>\n",
       "</table>\n",
       "<p>5364 rows × 7 columns</p>\n",
       "</div>"
      ],
      "text/plain": [
       "              director_name          actor_1_name            actor_2_name          actor_3_name                           genres                                        movie_title                                               comb\n",
       "0             James Cameron           CCH Pounder        Joel David Moore             Wes Studi  Action Adventure Fantasy Sci-Fi                                             avatar  CCH Pounder Joel David Moore Wes Studi James C...\n",
       "1            Gore Verbinski           Johnny Depp           Orlando Bloom        Jack Davenport         Action Adventure Fantasy           pirates of the caribbean: at world's end  Johnny Depp Orlando Bloom Jack Davenport Gore ...\n",
       "2                Sam Mendes       Christoph Waltz            Rory Kinnear      Stephanie Sigman        Action Adventure Thriller                                            spectre  Christoph Waltz Rory Kinnear Stephanie Sigman ...\n",
       "3         Christopher Nolan             Tom Hardy          Christian Bale  Joseph Gordon-Levitt                  Action Thriller                              the dark knight rises  Tom Hardy Christian Bale Joseph Gordon-Levitt ...\n",
       "4               Doug Walker           Doug Walker              Rob Walker               UNKNOWN                      Documentary  star wars: episode vii - the force awakens    ...  Doug Walker Rob Walker UNKNOWN Doug Walker Doc...\n",
       "...                     ...                   ...                     ...                   ...                              ...                                                ...                                                ...\n",
       "5359            Jim Strouse      Jessica Williams            Chris O'Dowd       Keith Stanfield                   Romance Comedy                       the incredible jessica james  Jessica Williams Chris O'Dowd Keith Stanfield ...\n",
       "5360            Farhad Mann         Adelaide Kane  Benjamin Hollingsworth     Jean Louisa Kelly                          Romance                                  can't buy my love  Adelaide Kane Benjamin Hollingsworth Jean Loui...\n",
       "5361       Hannaleena Hauru        Inka Haapamäki           Rosa Honkonen        Tiitus Rantala                   Romance Comedy                   thick lashes of lauri mäntyvaara  Inka Haapamäki Rosa Honkonen Tiitus Rantala Ha...\n",
       "5362  Jonathan A. Rosenbaum  Lou Diamond Phillips           Wallace Shawn           Gina Holden       Crime Comedy Action Family                        cop and a half: new recruit  Lou Diamond Phillips Wallace Shawn Gina Holden...\n",
       "5363           Ravi Udyawar        Sridevi Kapoor               Sajal Ali        Akshaye Khanna             Crime Drama Thriller                                                mom  Sridevi Kapoor Sajal Ali Akshaye Khanna Ravi U...\n",
       "\n",
       "[5364 rows x 7 columns]"
      ]
     },
     "execution_count": 210,
     "metadata": {},
     "output_type": "execute_result"
    }
   ],
   "source": [
    "df_till17"
   ]
  },
  {
   "cell_type": "code",
   "execution_count": 211,
   "metadata": {
    "ExecuteTime": {
     "end_time": "2021-05-12T20:36:58.010649Z",
     "start_time": "2021-05-12T20:36:57.990666Z"
    }
   },
   "outputs": [],
   "source": [
    "# combining the data to get movies till 2019\n",
    "\n",
    "final_df=df_till17.append(df_181920,ignore_index=True)"
   ]
  },
  {
   "cell_type": "code",
   "execution_count": 212,
   "metadata": {
    "ExecuteTime": {
     "end_time": "2021-05-12T20:37:14.319255Z",
     "start_time": "2021-05-12T20:37:14.305255Z"
    }
   },
   "outputs": [
    {
     "data": {
      "text/plain": [
       "director_name    0\n",
       "actor_1_name     0\n",
       "actor_2_name     0\n",
       "actor_3_name     0\n",
       "genres           4\n",
       "movie_title      0\n",
       "comb             4\n",
       "dtype: int64"
      ]
     },
     "execution_count": 212,
     "metadata": {},
     "output_type": "execute_result"
    }
   ],
   "source": [
    "final_df.isna().sum()"
   ]
  },
  {
   "cell_type": "code",
   "execution_count": 213,
   "metadata": {
    "ExecuteTime": {
     "end_time": "2021-05-12T20:37:32.453909Z",
     "start_time": "2021-05-12T20:37:32.429974Z"
    }
   },
   "outputs": [],
   "source": [
    "final_df=final_df.dropna(how='any')"
   ]
  },
  {
   "cell_type": "code",
   "execution_count": 214,
   "metadata": {
    "ExecuteTime": {
     "end_time": "2021-05-12T20:38:00.098161Z",
     "start_time": "2021-05-12T20:38:00.076213Z"
    }
   },
   "outputs": [
    {
     "data": {
      "text/plain": [
       "director_name    0\n",
       "actor_1_name     0\n",
       "actor_2_name     0\n",
       "actor_3_name     0\n",
       "genres           0\n",
       "movie_title      0\n",
       "comb             0\n",
       "dtype: int64"
      ]
     },
     "execution_count": 214,
     "metadata": {},
     "output_type": "execute_result"
    }
   ],
   "source": [
    "final_df.isna().sum()"
   ]
  },
  {
   "cell_type": "code",
   "execution_count": 215,
   "metadata": {
    "ExecuteTime": {
     "end_time": "2021-05-12T20:38:46.819926Z",
     "start_time": "2021-05-12T20:38:46.770956Z"
    }
   },
   "outputs": [],
   "source": [
    "final_df.to_csv('main_data.csv',index=False)"
   ]
  },
  {
   "cell_type": "code",
   "execution_count": null,
   "metadata": {},
   "outputs": [],
   "source": []
  },
  {
   "cell_type": "code",
   "execution_count": null,
   "metadata": {},
   "outputs": [],
   "source": []
  }
 ],
 "metadata": {
  "kernelspec": {
   "display_name": "Python 3",
   "language": "python",
   "name": "python3"
  },
  "language_info": {
   "codemirror_mode": {
    "name": "ipython",
    "version": 3
   },
   "file_extension": ".py",
   "mimetype": "text/x-python",
   "name": "python",
   "nbconvert_exporter": "python",
   "pygments_lexer": "ipython3",
   "version": "3.8.3"
  }
 },
 "nbformat": 4,
 "nbformat_minor": 4
}
